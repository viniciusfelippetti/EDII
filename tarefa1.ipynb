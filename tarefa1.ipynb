{
  "nbformat": 4,
  "nbformat_minor": 0,
  "metadata": {
    "colab": {
      "provenance": [],
      "authorship_tag": "ABX9TyMxIqyqiyG33eEdydFJZjYf",
      "include_colab_link": true
    },
    "kernelspec": {
      "name": "python3",
      "display_name": "Python 3"
    },
    "language_info": {
      "name": "python"
    }
  },
  "cells": [
    {
      "cell_type": "markdown",
      "metadata": {
        "id": "view-in-github",
        "colab_type": "text"
      },
      "source": [
        "<a href=\"https://colab.research.google.com/github/viniciusfelippetti/EDII/blob/Tarefa1/tarefa1.ipynb\" target=\"_parent\"><img src=\"https://colab.research.google.com/assets/colab-badge.svg\" alt=\"Open In Colab\"/></a>"
      ]
    },
    {
      "cell_type": "code",
      "source": [
        "!pip install gradio"
      ],
      "metadata": {
        "colab": {
          "base_uri": "https://localhost:8080/"
        },
        "id": "gNVc_ZstZxe7",
        "outputId": "2159d0ec-54b4-499d-b0ad-c434bbdc14f7"
      },
      "execution_count": 1,
      "outputs": [
        {
          "output_type": "stream",
          "name": "stdout",
          "text": [
            "Collecting gradio\n",
            "  Downloading gradio-4.22.0-py3-none-any.whl (17.1 MB)\n",
            "\u001b[2K     \u001b[90m━━━━━━━━━━━━━━━━━━━━━━━━━━━━━━━━━━━━━━━━\u001b[0m \u001b[32m17.1/17.1 MB\u001b[0m \u001b[31m32.2 MB/s\u001b[0m eta \u001b[36m0:00:00\u001b[0m\n",
            "\u001b[?25hCollecting aiofiles<24.0,>=22.0 (from gradio)\n",
            "  Downloading aiofiles-23.2.1-py3-none-any.whl (15 kB)\n",
            "Requirement already satisfied: altair<6.0,>=4.2.0 in /usr/local/lib/python3.10/dist-packages (from gradio) (4.2.2)\n",
            "Collecting fastapi (from gradio)\n",
            "  Downloading fastapi-0.110.0-py3-none-any.whl (92 kB)\n",
            "\u001b[2K     \u001b[90m━━━━━━━━━━━━━━━━━━━━━━━━━━━━━━━━━━━━━━━━\u001b[0m \u001b[32m92.1/92.1 kB\u001b[0m \u001b[31m8.0 MB/s\u001b[0m eta \u001b[36m0:00:00\u001b[0m\n",
            "\u001b[?25hCollecting ffmpy (from gradio)\n",
            "  Downloading ffmpy-0.3.2.tar.gz (5.5 kB)\n",
            "  Preparing metadata (setup.py) ... \u001b[?25l\u001b[?25hdone\n",
            "Collecting gradio-client==0.13.0 (from gradio)\n",
            "  Downloading gradio_client-0.13.0-py3-none-any.whl (311 kB)\n",
            "\u001b[2K     \u001b[90m━━━━━━━━━━━━━━━━━━━━━━━━━━━━━━━━━━━━━━━━\u001b[0m \u001b[32m311.2/311.2 kB\u001b[0m \u001b[31m21.2 MB/s\u001b[0m eta \u001b[36m0:00:00\u001b[0m\n",
            "\u001b[?25hCollecting httpx>=0.24.1 (from gradio)\n",
            "  Downloading httpx-0.27.0-py3-none-any.whl (75 kB)\n",
            "\u001b[2K     \u001b[90m━━━━━━━━━━━━━━━━━━━━━━━━━━━━━━━━━━━━━━━━\u001b[0m \u001b[32m75.6/75.6 kB\u001b[0m \u001b[31m1.7 MB/s\u001b[0m eta \u001b[36m0:00:00\u001b[0m\n",
            "\u001b[?25hRequirement already satisfied: huggingface-hub>=0.19.3 in /usr/local/lib/python3.10/dist-packages (from gradio) (0.20.3)\n",
            "Requirement already satisfied: importlib-resources<7.0,>=1.3 in /usr/local/lib/python3.10/dist-packages (from gradio) (6.3.2)\n",
            "Requirement already satisfied: jinja2<4.0 in /usr/local/lib/python3.10/dist-packages (from gradio) (3.1.3)\n",
            "Requirement already satisfied: markupsafe~=2.0 in /usr/local/lib/python3.10/dist-packages (from gradio) (2.1.5)\n",
            "Requirement already satisfied: matplotlib~=3.0 in /usr/local/lib/python3.10/dist-packages (from gradio) (3.7.1)\n",
            "Requirement already satisfied: numpy~=1.0 in /usr/local/lib/python3.10/dist-packages (from gradio) (1.25.2)\n",
            "Collecting orjson~=3.0 (from gradio)\n",
            "  Downloading orjson-3.9.15-cp310-cp310-manylinux_2_17_x86_64.manylinux2014_x86_64.whl (138 kB)\n",
            "\u001b[2K     \u001b[90m━━━━━━━━━━━━━━━━━━━━━━━━━━━━━━━━━━━━━━━━\u001b[0m \u001b[32m138.5/138.5 kB\u001b[0m \u001b[31m1.2 MB/s\u001b[0m eta \u001b[36m0:00:00\u001b[0m\n",
            "\u001b[?25hRequirement already satisfied: packaging in /usr/local/lib/python3.10/dist-packages (from gradio) (24.0)\n",
            "Requirement already satisfied: pandas<3.0,>=1.0 in /usr/local/lib/python3.10/dist-packages (from gradio) (1.5.3)\n",
            "Requirement already satisfied: pillow<11.0,>=8.0 in /usr/local/lib/python3.10/dist-packages (from gradio) (9.4.0)\n",
            "Requirement already satisfied: pydantic>=2.0 in /usr/local/lib/python3.10/dist-packages (from gradio) (2.6.4)\n",
            "Collecting pydub (from gradio)\n",
            "  Downloading pydub-0.25.1-py2.py3-none-any.whl (32 kB)\n",
            "Collecting python-multipart>=0.0.9 (from gradio)\n",
            "  Downloading python_multipart-0.0.9-py3-none-any.whl (22 kB)\n",
            "Requirement already satisfied: pyyaml<7.0,>=5.0 in /usr/local/lib/python3.10/dist-packages (from gradio) (6.0.1)\n",
            "Collecting ruff>=0.2.2 (from gradio)\n",
            "  Downloading ruff-0.3.4-py3-none-manylinux_2_17_x86_64.manylinux2014_x86_64.whl (8.7 MB)\n",
            "\u001b[2K     \u001b[90m━━━━━━━━━━━━━━━━━━━━━━━━━━━━━━━━━━━━━━━━\u001b[0m \u001b[32m8.7/8.7 MB\u001b[0m \u001b[31m20.6 MB/s\u001b[0m eta \u001b[36m0:00:00\u001b[0m\n",
            "\u001b[?25hCollecting semantic-version~=2.0 (from gradio)\n",
            "  Downloading semantic_version-2.10.0-py2.py3-none-any.whl (15 kB)\n",
            "Collecting tomlkit==0.12.0 (from gradio)\n",
            "  Downloading tomlkit-0.12.0-py3-none-any.whl (37 kB)\n",
            "Requirement already satisfied: typer[all]<1.0,>=0.9 in /usr/local/lib/python3.10/dist-packages (from gradio) (0.9.0)\n",
            "Requirement already satisfied: typing-extensions~=4.0 in /usr/local/lib/python3.10/dist-packages (from gradio) (4.10.0)\n",
            "Collecting uvicorn>=0.14.0 (from gradio)\n",
            "  Downloading uvicorn-0.29.0-py3-none-any.whl (60 kB)\n",
            "\u001b[2K     \u001b[90m━━━━━━━━━━━━━━━━━━━━━━━━━━━━━━━━━━━━━━━━\u001b[0m \u001b[32m60.8/60.8 kB\u001b[0m \u001b[31m2.6 MB/s\u001b[0m eta \u001b[36m0:00:00\u001b[0m\n",
            "\u001b[?25hRequirement already satisfied: fsspec in /usr/local/lib/python3.10/dist-packages (from gradio-client==0.13.0->gradio) (2023.6.0)\n",
            "Collecting websockets<12.0,>=10.0 (from gradio-client==0.13.0->gradio)\n",
            "  Downloading websockets-11.0.3-cp310-cp310-manylinux_2_5_x86_64.manylinux1_x86_64.manylinux_2_17_x86_64.manylinux2014_x86_64.whl (129 kB)\n",
            "\u001b[2K     \u001b[90m━━━━━━━━━━━━━━━━━━━━━━━━━━━━━━━━━━━━━━━━\u001b[0m \u001b[32m129.9/129.9 kB\u001b[0m \u001b[31m4.5 MB/s\u001b[0m eta \u001b[36m0:00:00\u001b[0m\n",
            "\u001b[?25hRequirement already satisfied: entrypoints in /usr/local/lib/python3.10/dist-packages (from altair<6.0,>=4.2.0->gradio) (0.4)\n",
            "Requirement already satisfied: jsonschema>=3.0 in /usr/local/lib/python3.10/dist-packages (from altair<6.0,>=4.2.0->gradio) (4.19.2)\n",
            "Requirement already satisfied: toolz in /usr/local/lib/python3.10/dist-packages (from altair<6.0,>=4.2.0->gradio) (0.12.1)\n",
            "Requirement already satisfied: anyio in /usr/local/lib/python3.10/dist-packages (from httpx>=0.24.1->gradio) (3.7.1)\n",
            "Requirement already satisfied: certifi in /usr/local/lib/python3.10/dist-packages (from httpx>=0.24.1->gradio) (2024.2.2)\n",
            "Collecting httpcore==1.* (from httpx>=0.24.1->gradio)\n",
            "  Downloading httpcore-1.0.4-py3-none-any.whl (77 kB)\n",
            "\u001b[2K     \u001b[90m━━━━━━━━━━━━━━━━━━━━━━━━━━━━━━━━━━━━━━━━\u001b[0m \u001b[32m77.8/77.8 kB\u001b[0m \u001b[31m4.5 MB/s\u001b[0m eta \u001b[36m0:00:00\u001b[0m\n",
            "\u001b[?25hRequirement already satisfied: idna in /usr/local/lib/python3.10/dist-packages (from httpx>=0.24.1->gradio) (3.6)\n",
            "Requirement already satisfied: sniffio in /usr/local/lib/python3.10/dist-packages (from httpx>=0.24.1->gradio) (1.3.1)\n",
            "Collecting h11<0.15,>=0.13 (from httpcore==1.*->httpx>=0.24.1->gradio)\n",
            "  Downloading h11-0.14.0-py3-none-any.whl (58 kB)\n",
            "\u001b[2K     \u001b[90m━━━━━━━━━━━━━━━━━━━━━━━━━━━━━━━━━━━━━━━━\u001b[0m \u001b[32m58.3/58.3 kB\u001b[0m \u001b[31m3.9 MB/s\u001b[0m eta \u001b[36m0:00:00\u001b[0m\n",
            "\u001b[?25hRequirement already satisfied: filelock in /usr/local/lib/python3.10/dist-packages (from huggingface-hub>=0.19.3->gradio) (3.13.1)\n",
            "Requirement already satisfied: requests in /usr/local/lib/python3.10/dist-packages (from huggingface-hub>=0.19.3->gradio) (2.31.0)\n",
            "Requirement already satisfied: tqdm>=4.42.1 in /usr/local/lib/python3.10/dist-packages (from huggingface-hub>=0.19.3->gradio) (4.66.2)\n",
            "Requirement already satisfied: contourpy>=1.0.1 in /usr/local/lib/python3.10/dist-packages (from matplotlib~=3.0->gradio) (1.2.0)\n",
            "Requirement already satisfied: cycler>=0.10 in /usr/local/lib/python3.10/dist-packages (from matplotlib~=3.0->gradio) (0.12.1)\n",
            "Requirement already satisfied: fonttools>=4.22.0 in /usr/local/lib/python3.10/dist-packages (from matplotlib~=3.0->gradio) (4.50.0)\n",
            "Requirement already satisfied: kiwisolver>=1.0.1 in /usr/local/lib/python3.10/dist-packages (from matplotlib~=3.0->gradio) (1.4.5)\n",
            "Requirement already satisfied: pyparsing>=2.3.1 in /usr/local/lib/python3.10/dist-packages (from matplotlib~=3.0->gradio) (3.1.2)\n",
            "Requirement already satisfied: python-dateutil>=2.7 in /usr/local/lib/python3.10/dist-packages (from matplotlib~=3.0->gradio) (2.8.2)\n",
            "Requirement already satisfied: pytz>=2020.1 in /usr/local/lib/python3.10/dist-packages (from pandas<3.0,>=1.0->gradio) (2023.4)\n",
            "Requirement already satisfied: annotated-types>=0.4.0 in /usr/local/lib/python3.10/dist-packages (from pydantic>=2.0->gradio) (0.6.0)\n",
            "Requirement already satisfied: pydantic-core==2.16.3 in /usr/local/lib/python3.10/dist-packages (from pydantic>=2.0->gradio) (2.16.3)\n",
            "Requirement already satisfied: click<9.0.0,>=7.1.1 in /usr/local/lib/python3.10/dist-packages (from typer[all]<1.0,>=0.9->gradio) (8.1.7)\n",
            "Collecting colorama<0.5.0,>=0.4.3 (from typer[all]<1.0,>=0.9->gradio)\n",
            "  Downloading colorama-0.4.6-py2.py3-none-any.whl (25 kB)\n",
            "Collecting shellingham<2.0.0,>=1.3.0 (from typer[all]<1.0,>=0.9->gradio)\n",
            "  Downloading shellingham-1.5.4-py2.py3-none-any.whl (9.8 kB)\n",
            "Requirement already satisfied: rich<14.0.0,>=10.11.0 in /usr/local/lib/python3.10/dist-packages (from typer[all]<1.0,>=0.9->gradio) (13.7.1)\n",
            "Collecting starlette<0.37.0,>=0.36.3 (from fastapi->gradio)\n",
            "  Downloading starlette-0.36.3-py3-none-any.whl (71 kB)\n",
            "\u001b[2K     \u001b[90m━━━━━━━━━━━━━━━━━━━━━━━━━━━━━━━━━━━━━━━━\u001b[0m \u001b[32m71.5/71.5 kB\u001b[0m \u001b[31m6.0 MB/s\u001b[0m eta \u001b[36m0:00:00\u001b[0m\n",
            "\u001b[?25hRequirement already satisfied: attrs>=22.2.0 in /usr/local/lib/python3.10/dist-packages (from jsonschema>=3.0->altair<6.0,>=4.2.0->gradio) (23.2.0)\n",
            "Requirement already satisfied: jsonschema-specifications>=2023.03.6 in /usr/local/lib/python3.10/dist-packages (from jsonschema>=3.0->altair<6.0,>=4.2.0->gradio) (2023.12.1)\n",
            "Requirement already satisfied: referencing>=0.28.4 in /usr/local/lib/python3.10/dist-packages (from jsonschema>=3.0->altair<6.0,>=4.2.0->gradio) (0.34.0)\n",
            "Requirement already satisfied: rpds-py>=0.7.1 in /usr/local/lib/python3.10/dist-packages (from jsonschema>=3.0->altair<6.0,>=4.2.0->gradio) (0.18.0)\n",
            "Requirement already satisfied: six>=1.5 in /usr/local/lib/python3.10/dist-packages (from python-dateutil>=2.7->matplotlib~=3.0->gradio) (1.16.0)\n",
            "Requirement already satisfied: markdown-it-py>=2.2.0 in /usr/local/lib/python3.10/dist-packages (from rich<14.0.0,>=10.11.0->typer[all]<1.0,>=0.9->gradio) (3.0.0)\n",
            "Requirement already satisfied: pygments<3.0.0,>=2.13.0 in /usr/local/lib/python3.10/dist-packages (from rich<14.0.0,>=10.11.0->typer[all]<1.0,>=0.9->gradio) (2.16.1)\n",
            "Requirement already satisfied: exceptiongroup in /usr/local/lib/python3.10/dist-packages (from anyio->httpx>=0.24.1->gradio) (1.2.0)\n",
            "Requirement already satisfied: charset-normalizer<4,>=2 in /usr/local/lib/python3.10/dist-packages (from requests->huggingface-hub>=0.19.3->gradio) (3.3.2)\n",
            "Requirement already satisfied: urllib3<3,>=1.21.1 in /usr/local/lib/python3.10/dist-packages (from requests->huggingface-hub>=0.19.3->gradio) (2.0.7)\n",
            "Requirement already satisfied: mdurl~=0.1 in /usr/local/lib/python3.10/dist-packages (from markdown-it-py>=2.2.0->rich<14.0.0,>=10.11.0->typer[all]<1.0,>=0.9->gradio) (0.1.2)\n",
            "Building wheels for collected packages: ffmpy\n",
            "  Building wheel for ffmpy (setup.py) ... \u001b[?25l\u001b[?25hdone\n",
            "  Created wheel for ffmpy: filename=ffmpy-0.3.2-py3-none-any.whl size=5584 sha256=504ddc7783329a83fa5e2bde5d0eccaffdaa9cb3a6fa613753fd67f5fe567ea1\n",
            "  Stored in directory: /root/.cache/pip/wheels/bd/65/9a/671fc6dcde07d4418df0c592f8df512b26d7a0029c2a23dd81\n",
            "Successfully built ffmpy\n",
            "Installing collected packages: pydub, ffmpy, websockets, tomlkit, shellingham, semantic-version, ruff, python-multipart, orjson, h11, colorama, aiofiles, uvicorn, starlette, httpcore, httpx, fastapi, gradio-client, gradio\n",
            "Successfully installed aiofiles-23.2.1 colorama-0.4.6 fastapi-0.110.0 ffmpy-0.3.2 gradio-4.22.0 gradio-client-0.13.0 h11-0.14.0 httpcore-1.0.4 httpx-0.27.0 orjson-3.9.15 pydub-0.25.1 python-multipart-0.0.9 ruff-0.3.4 semantic-version-2.10.0 shellingham-1.5.4 starlette-0.36.3 tomlkit-0.12.0 uvicorn-0.29.0 websockets-11.0.3\n"
          ]
        }
      ]
    },
    {
      "cell_type": "code",
      "execution_count": 13,
      "metadata": {
        "id": "HbTPXQKXwJLe"
      },
      "outputs": [],
      "source": [
        "import requests\n",
        "from bs4 import BeautifulSoup"
      ]
    },
    {
      "cell_type": "code",
      "source": [
        "url = \"https://www.gutenberg.org/cache/epub/73191/pg73191-images.html\"\n",
        "response = requests.get(url)\n",
        "html_content = response.content"
      ],
      "metadata": {
        "id": "PQnji0To3m1d"
      },
      "execution_count": 3,
      "outputs": []
    },
    {
      "cell_type": "code",
      "source": [
        "soup = BeautifulSoup(html_content, \"html.parser\")\n",
        "texto = soup.find_all(\"div\", class_=\"main-text\")\n",
        "\n",
        "if not texto:\n",
        "  texto = soup.find_all(\"body\")"
      ],
      "metadata": {
        "id": "JJT1Ldwv32zN"
      },
      "execution_count": 4,
      "outputs": []
    },
    {
      "cell_type": "code",
      "source": [
        "if texto:\n",
        "  texto_completo = \" \".join([tag.text for tag in texto])\n",
        "else:\n",
        "  print(\"Erro: Texto principal não encontrado.\")\n",
        "  exit()"
      ],
      "metadata": {
        "id": "QhQk33TA6no6"
      },
      "execution_count": 5,
      "outputs": []
    },
    {
      "cell_type": "code",
      "source": [
        "import nltk\n",
        "import re\n",
        "import string\n",
        "nltk.download('punkt')"
      ],
      "metadata": {
        "colab": {
          "base_uri": "https://localhost:8080/"
        },
        "id": "TeIMc8Xz6zVy",
        "outputId": "7f05a241-9658-4143-c2c0-00d06a158503"
      },
      "execution_count": 6,
      "outputs": [
        {
          "output_type": "stream",
          "name": "stderr",
          "text": [
            "[nltk_data] Downloading package punkt to /root/nltk_data...\n",
            "[nltk_data]   Unzipping tokenizers/punkt.zip.\n"
          ]
        },
        {
          "output_type": "execute_result",
          "data": {
            "text/plain": [
              "True"
            ]
          },
          "metadata": {},
          "execution_count": 6
        }
      ]
    },
    {
      "cell_type": "code",
      "source": [
        "def pre_processar_texto(texto):\n",
        "\n",
        "  texto = texto.lower()\n",
        "  texto = texto.translate(str.maketrans(\"\", \"\", string.punctuation))\n",
        "  palavras = nltk.word_tokenize(texto)\n",
        "  palavras = [palavra for palavra in palavras if len(palavra) >= 4]\n",
        "  return palavras\n",
        "\n",
        "palavras_processadas = pre_processar_texto(texto_completo)\n",
        "\n",
        "palavras_unicas = set(palavras_processadas)\n",
        "\n",
        "lista_palavras_unicas = list(palavras_unicas)\n",
        "\n",
        "def remover_numeros(lista):\n",
        "\n",
        "  return [item for item in lista if not re.match(\"[0-9.]+\", item)]\n",
        "\n",
        "lista_sem_numeros = remover_numeros(lista_palavras_unicas)\n",
        "\n",
        "print(lista_sem_numeros)\n",
        "\n"
      ],
      "metadata": {
        "colab": {
          "base_uri": "https://localhost:8080/"
        },
        "id": "NBFOwUWn6rVh",
        "outputId": "ab237899-4d55-4c79-9827-3281400faa6c"
      },
      "execution_count": 7,
      "outputs": [
        {
          "output_type": "stream",
          "name": "stdout",
          "text": [
            "['serrement', 'âcreté', 'attendrie', 'attrista', 'express', 'tirés', 'cordes', 'entouraient', 'rencontrée…', 'parlant', 'section', 'methods', 'irréprochablement', 'seriez', 'your', 'approcha', 'chapeaux…', 'gêne', 'liste', 'silence', 'derivative', 'froidement', 'retomba', 'innombrables', 'conduisait', 'sieur', 'sensations', 'accepterait', 'arrêté', 'accent', 'payé', 'déserts', 'musique', 'ruiné', 'peux', 'misérable', 'nues', 'prêter', 'réveiller', 'pékin', 'gott', 'infâme', 'mouvements', 'caverne', 'hasards', 'poussé', 'confectionnait', 'damages', 'cliquette', 'sentait', 'intervalles', 'nouvelle', 'mademoiselle…', 'ambre', 'cuisine', 'doré', 'aima', 'forces', 'ennemie', 'rhum', 'about', 'legally', 'amant', 'réverbère', 'serions', 'affaissés', 'trouves', 'répondu', 'posait', 'abritaient', 'allé', 'stupéfiée', 'rentières', 'répugnance', 'serviettes', 'exemple', 'découragée', 'posées', 'aimée…', 'fourrure', 'fitelle', 'sait', 'demeure', 'anima…', 'retourné', 'côté…', 'stored', 'disant', 'vivant', 'relever', 'mord', 'enlacés', 'souriaient', 'marron', 'pureté', 'commencer', 'piquait', 'distrait', 'samedis', 'refait', 'tout…', 'paradis…', 'ramiers', 'rencontrais', 'include', 'trompait', 'marche', 'signal', 'seins', 'pleurèrent', 'soucis', 'mettezvous', 'paperwork', 'entoura', 'trente', 'chapeau', 'parquet', 'neuilly', 'venant', 'pauvres…', 'voisins', 'couchées', 'nearly', 'ennuya…', 'conscience', 'rhabille', 'semblaient', 'grandir', 'traintrain', 'caleçon', 'penchait', 'soumet', 'avocat', 'gras', 'abrutie', 'fusil', 'copain', 'verrait', 'émerveillement', 'malchances', 'virus', 'làdedans', 'avez', 'boues', 'défaite', 'vraiment', 'attrait…', 'tien', 'assoupi', 'trempant', 'elle', 'jeûner', 'défends', 'moqueurs', 'songeait', 'jalouse', 'faisles', 'avance…', 'convaincre', 'repassé', 'propre', 'tholozé', 'oreilles', 'huret', 'éditeur', 'fûmes', 'gilet', 'commencé', 'militaire', 'savates', 'rapporte', 'patiemment', 'arrièrepensées', 'indemnity', 'hart', 'arise', 'bouquetière', 'amassaient', 'pale', 'respecté', 'stations', 'appréhension', 'cette', 'nourrir', 'poivre', 'infini', 'rolande', 'secouer', 'michael', 'mettait', 'mélangeait', 'lança', 'étonnement', 'distributed', 'rigolos', 'oubliée', 'justement', 'comme', 'baragouiner', 'chypre', 'acajou', 'surveiller', 'écoulées', 'pénétrée', 'échappât', 'educational', 'tête…', 'tremblante', 'rasant', 'promenait', 'where', 'profond', 'laisser', 'attendait', 'épanouie', 'bruni', 'offusquée', 'contemplait', 'entendais', 'serrure', 'basané', 'timides', 'trace…', 'extrêmement', 'vingtsept', 'rendezvous', 'éventait', 'mendiante', 'reprochant', 'leste', 'fine', 'dévalait', 'indécis', 'emporté', 'maire', 'indifférents…', 'ouvrière', 'fardée', 'chauffe', 'croistu', 'renouvelée', 'parents…', 'filles', 'fidèlement', 'figure', 'déçue', 'relève', 'sauta', 'fermeture', 'détourner', 'chatte…', 'rire', 'lapin', 'promenaient', 'embrassa', 'dissipait', 'crier', 'éveillèrent', 'causer', 'mivoix', 'chopine', 'insecte', 'different', 'terrifiée', 'réclame', 'jolis', 'void', 'gomme', 'curiosité', 'identification', 'nappe', 'nuées', 'odeurs', 'orgueil…', 'roses', 'associated', 'status', 'changeante', 'malaise', 'fleurs', 'imaginé', 'brin', 'joues', 'tube', 'redevenue', 'série', 'filtre', 'dégoûterait', 'misères', 'required', 'habillèrent', 'festins', 'physical', 'ingratitude', 'assiérait', 'pleures', 'accompagné', 'entier', 'réveille', 'boules', 'blessait', 'damaged', 'tirer', 'suppliante', 'serpent', 'rentrerais', 'commençait', 'orage', 'simplement', 'ronde', 'neuve', 'frippe', 'gustave', 'mentir', 'fenêtres', 'gratitude', 'première', 'breach', 'regardent', 'coiffait', 'réconfortait', 'west', 'dépassait', 'vins', 'apitoyait', 'rives', 'glorifiait', 'display', 'montra', 'introduite', 'dressait', 'sentit', 'pleurer…', 'animaux', 'tard…', 'importun', 'marked', 'printemps', 'poignant', 'biscuit', 'rasé', 'étendait', 'circulaient', 'partie', 'bouteille', 'manteau', 'abritezvous', 'août', 'planquait', 'restée', 'bougeaitelle', 'démodée', 'toux', 'noirs', 'amuse', 'instant', 'vieillard', 'estce', 'iridon', 'renamed', 'désola', 'gymnastique', 'chaudement', 'variait', 'ampoules', 'papier', 'wwwgutenbergorgcontact', 'plaisant…', 'appelé', 'endroits', 'explanation', 'tisane', 'parles', 'vert', 'rencontrait', 'allumé', 'gazons', 'ajouta', 'souffrir', 'revint', 'amusaient', 'carrée', 'copies', 'fille', 'includes', 'province', 'appeler', 'pendaient', 'cost', 'vêtues', 'glace', 'bras', 'cédait', 'fera', 'décolletées', 'humide', 'partait', 'quinze', 'savais', 'murmura', 'chocolat…', 'endormit', 'forçait', 'cour', 'shall', 'définitivement', 'être', 'godillots', 'main', 'admiration', 'court', 'renfonçait', 'bonhomme', 'affiche', 'vergogne', 'arrive', 'opla', 'brasseries', 'quelles', 'effaça', 'éteignit', 'dévoila', 'charbon', 'phrases', 'manger', 'murmuraitil', 'numérotés', 'oiseaux', 'mâle', 'tompouce', 'écouter…', 'considération', 'hochait', 'montagne', 'inquiétudes', 'devoir', 'bruissement', 'grise', 'prière', 'sourdine', 'mein', 'pays', 'network', 'tirebouchon', 'déceptions', 'laws', 'lèvres', 'provocant', 'ditil', 'containing', 'noires', 'maintenant', 'depuis', 'hein', 'intelligent', 'engourdi', 'aboie', 'éblouissant', 'pourrai', 'trademarkcopyright', 'racontes', 'lucie', 'société', 'lacs', 'vint', 'arrêtèrent', 'teints', 'invita', 'courut', 'grossissait', 'future', 'oreiller', 'saisons', 'agiter', 'bagout', 'planté', 'tolstoï', 'encourager', 'théâtre', 'violaient', 'complaisance', 'église', 'posée', 'jouaient', 'lassée', 'blonds', 'détail', 'riaient', 'doigts', 'désertait', 'gutenberg', 'coups', 'connaistu', 'copines', 'gros', 'midi', 'voyaient', 'balancé', 'superficielle', 'encombrée', 'récent', 'manille…', 'grossi', 'londres', 'sembla', 'blessure', 'adossait', 'enveloppait', 'will', 'aisance', 'alone', 'points', 'peau', 'immobilité', 'brouillaient', 'apply', 'femme', 'étendent', 'collés', 'faiblesses', 'guerrière', 'gaiement', 'seigneur', 'maman…', 'camisole', 'pliée', 'complaisant', 'campagne', 'cannes', 'jours…', 'stupeur…', 'arrêtées', 'aillent', 'belle', 'employé…', 'veuve', 'débouchait', 'parts', 'interdit', 'amusetoi', 'entrecoupées', 'marins', 'courbait', 'reconnaissait', 'remuée', 'information', 'cigales', 'marchèrent', 'pire', 'revenu', 'passer', 'arracha', 'certaine', 'direct', 'répondait', 'couturières', 'bourgeons', 'rentrèrent', 'jeunes', 'tuteur', 'oser', 'apparaissaient', 'printed', 'middleaged', 'bonté', 'trottait', 'flemme', 'fifi…', 'bruit', 'regardaient', 'retrouvé', 'claretie', 'duperré', 'désireraient', 'dédaignent', 'apprêtait', 'suivre', 'attendent', 'brutales', 'saintandré', 'mensonge', 'phrase', 'gutenberg™', 'prenaient', 'vous', 'rebut…', 'professor', 'élevé', 'tournée', 'trimm', 'salt', 'clichy', 'levait', 'naturelle', 'faiblesse', 'ménage', 'enceinte…', 'sonnettes', 'disparut', 'parissport', 'trouver…', 'étrangler', 'menu', 'répandait', 'fumée', 'laissemoi…', 'faisaient', 'vaetvient', 'cinq', 'couronne', 'vingthuit', 'colle', 'connaît', 'idée', 'laurent', 'exprime', 'seine', 'abat', 'copine', 'guetteur', 'manquer', 'folie', 'efficace', 'moment', 'aussitôt', 'voyons', 'reprocha', 'excitées', 'mari', 'aimerais', 'espoir', 'tenait', 'foutu', 'simple…', 'haut', 'chagrin', 'savaient', 'vêtements', 'criait', 'futelle', 'capuchon', 'lancer', 'défilait', 'also', 'vînt', 'charmante', 'douceur', 'financial', 'violemment', 'sentimental', 'malle', 'cessé', 'gifles', 'désillusions', 'baissées', 'this', 'lendemain', 'revenait', 'laide', 'régnaient', 'reposait', 'celles', 'payaient', 'gross', 'recommencer…', 'marbeuf…', 'laissemoi', 'bavardait', 'trouveras', 'gifle', 'accouché', 'échevelée', 'amusant', 'magistrat', 'page', 'réclama', 'soufflet', 'galette', 'cueillit', 'laquelle', 'quittant…', 'paierait', 'elisa', 'incompréhensible', 'tapisserie', 'désir', 'opposé', 'squelette', 'plaintes', 'théâtres', 'mains', 'vieux', 'embrassaient', 'catalogue', 'repoussa', 'exposé', 'aurait', 'convaincue', 'salué', 'fatigue', 'table', 'machins', 'forêts', 'argent', 'chauffeurs', 'attirait', 'voluptueux', 'décrocher', 'vitre', 'allongea', 'déluge…', 'putain', 'confirmed', 'support', 'cirée', 'avril', 'réussi', 'groupe', 'reliques', 'vitres', 'labours', 'admirables', 'monstre', 'plaisir…', 'volière', 'arbres', 'épuisement', 'cave', 'bécon', 'require', 'souffrance', 'previous', 'réfectoire', 'flacons', 'serrurier', 'reverraient', 'mangeras', 'boniment', 'replace', 'bonne…', 'battre', 'agaçant', 'absente', 'sanglotait', 'vider', 'misérablement', 'dimanches', 'project', 'boche', 'contrarié', 'songe', 'bureau', 'poitrinaires', 'peut', 'chérie', 'réclamait', 'revoir', 'muet', 'correction', 'exubérance', 'payer', 'bouches', 'grandes', 'récita', 'habitué', 'chantait…', 'intonation', 'atelier', 'maîtresse', 'veines', 'capitaine', 'cretonne', 'know', 'cirrhose', 'rendu', 'bouffé', 'purpose', 'argentlà', 'remontée', 'défendu', 'ramener', 'fermé', 'raté', 'repartait', 'penchées', 'levant', 'much', 'couvrait', 'longeait', 'prennent', 'cela', 'pressé', 'kilo', 'feuilleton', 'franco', 'partout', 'décevait', 'cent', 'ornement', 'grenette', 'installèrent', 'officiers', 'point', 'parlé', 'proofread', 'délicieux…', 'baissa', 'below', 'capuchons', 'quais', 'félicité', 'exporting', 'retrouvaient', 'finissant', 'riches', 'arriva', 'défaut', 'monceau', 'made', 'enfoncée', 'iraient', 'remarque', 'pierres', 'help', 'aille', 'appears', 'moineau', 'souffert', 'registered', 'fier…', 'changèrent', 'formulé', 'cracha', 'bonjour', 'suppliait', 'vaut', 'imaginer', 'émois', 'quelques', 'madame', 'saint', 'épousé', 'réussir…', 'inexpressive', 'peser', 'bavarder', 'loin', 'regrettait', 'joua', 'importe', 'froufrous', 'volume', 'faure', 'matelots', 'madagascar', 'kind', 'pain', 'crié', 'tablier', 'online', 'copiait', 'équilibre', 'typelà', 'ouvrage', 'poser', 'ange', 'vantait', 'frissonnait', 'fraises', 'regagnait', 'agitation', 'perform', 'portant', 'paupières', 'moins', 'honte', 'gâtés', 'embrasse', 'tubes', 'conseils', 'avoir', 'endolorissait', 'séant', 'vendre', 'rendrai', 'montrait', 'malin', 'grenadine', 'enfant…', 'cellule', 'aller', 'very', 'research', 'current', 'sentie', 'prix', 'embête', 'request', 'vitraux', 'equipment', 'contact', 'patron', 'vilain', 'sombres', 'poche', 'pleut', 'essayait', 'soufflait', 'informes…', 'récit', 'nuit…', 'réveillant', 'conservait', 'assise', 'couchés', 'états', 'colibri', 'sentier', 'gâter', 'éclata', 'enveloppé', 'further', 'bibelots', 'soimême', 'treillage', 'passante', 'devanture', 'brillante', 'grande', 'paille', 'tribunal', 'solitude…', 'roulent', 'bileux', 'supporter', 'habille…', 'compagnie', 'premières', 'ficelé', 'prenais', 'décontenancé', 'chaudes', 'réduit', 'victime', 'descendu', 'coiffées', 'roucoulaient', 'doute', 'esprit', 'produced', 'confiance', 'donnerait', 'euxmêmes', 'chère', 'manager', 'épateuse', 'pontsdeclaix', 'louche', 'derive', 'boutique', 'chambre', 'anneaux', 'envers', 'lisette', 'marchaient', 'fausses', 'vanilla', 'parfaitement', 'tant', 'partit', 'polissoir', 'originator', 'éblouie', 'subite', 'free', 'ailleurs', 'govern', 'asis', 'jappements', 'identify', 'tramways', 'parapet', 'taillait', 'fussent', 'indien', 'autant', 'valait', 'mouvants', 'passé', 'aimer…', 'pêcheurs', 'défilé', 'gravure', 'aimer', 'discovered', 'continué', 'aidait', 'éternelle', 'cochers', 'raisons', 'prominently', 'entière', 'sucera', 'errait', 'éveillait', 'murmurant', 'contain', 'messieurs', 'numérotée', 'office', 'active', 'gheusi', 'samaritaine', 'donnaient', 'keep', 'dévisageait…', 'embrassemoi', 'rendre', 'uniformément', 'boulevard', 'other', 'sentiments…', 'rapidité', 'oranges', 'lointaine', 'plaisait', 'fragilité', 'rebord', 'rideauxlà', 'avouer', 'orient', 'occupée', 'expression', 'saucisson', 'serre', 'pipe', 'humilité', 'jetant', 'indéfiniment', 'assisté', 'accepta', 'horloge', 'pensée', 'mille', 'hâtaient', 'recommençait', 'saviez', 'pensant', 'volage', 'toutàcoup', 'émotions', 'eynard', 'aveux', 'désiré', 'ventilateur…', 'bleuslà', 'enlevée', 'gâteaux', 'vaguement', 'rejetait', 'prétextes…', 'vidé', 'causaient', 'reçut', 'passés', 'nettes', 'pardonnerait', 'désespoir', 'propos', 'torchon', 'abondance', 'holder', 'aspirant', 'corporation', 'gabriel', 'approche', 'subscribe', 'hommes', 'chanter…', 'voisine', 'aucune', 'découvrir', 'derues', 'souvenait', 'infirmière…', 'timidement', 'pénétrait', 'rafraîchissait', 'trentecinq', 'douce', 'omnibus', 'saisi', 'vache', 'rougeâtre', 'dormi', 'gratefully', 'vacillante', 'consoler', 'dégagé', 'regardait', 'sandwich', 'traînaient', 'indiquées', 'turbiner', 'étonnait', 'chipée', 'souffres', 'fiel', 'joli', 'ruer…', 'tendres', 'blanc…', 'ramassé', 'faisant', 'voulait', 'prit', 'trottine', 'jusquelà', 'magnifique', 'appearing', 'cascade', 'abolissait', 'dissimulait', 'dénaturé', 'retenue', 'dormir', 'familier', 'foie', 'salle', 'robe', 'jouant', 'cuites', 'rencontrer', 'rater', 'louée', 'avides…', 'levée', 'granted', 'ressemble', 'façon', 'déçu', 'codes', 'beaucoup', 'rêver', 'monument', 'copyright', 'saoul', 'caresser', 'descente', 'bock', 'remonté', 'baigneurs', 'countries', 'minutelà', 'archive', 'joueur', 'tâtait', 'installé', 'terre', 'accepted', 'usée', 'remettrait', 'veuxtu', 'marchant', 'affaissement', 'habitèrent', 'payez', 'avait', 'taverne', 'email', 'plaçait', 'couple', 'adorait', 'insolents', 'gorgée', 'electronically', 'question', 'cachée', 'provoquer', 'pénibles', 'plomb', 'commandement', 'mères', 'purée', 'rendit', 'petits', 'ouverts', 'glacé', 'domine', 'couvertes', 'atténua', 'grenette…', 'trouvât', 'arrête', 'essayé', 'différence', 'métro…', 'gueule', 'taitbout', 'sueur', 'redescendent', 'regrette', 'difficiles', 'crevant…', 'tutoiemoi', 'montent', 'apaisement', 'grelots', 'fraulein', 'ancien', 'causent', 'généralement', 'surhumainement', 'rivoli', 'camp', 'regardée', 'jupons', 'chantaient', 'aube…', 'contractée', 'herbert', 'sommeillaient', 'ainsi', 'chéri', 'énormément', 'fier', 'loge', 'dégoûtent', 'tendre', 'estomac', 'emportés', 'gagnait', 'caresses', 'emprunté', 'prirent', 'charmant', 'inquiète', 'exilé', 'soie', 'dépit', 'premier', 'fois', 'étouffée', 'gants', 'légèrement', 'poules', 'trademark', 'pressant', 'brides', 'couleur', 'oublié', 'vapeur', 'supérieures', 'exemplaires', 'sérieuses', 'lacets', 'gagne', 'glissait', 'pourtant', 'hasard', 'promis', 'envahissant', 'emballeraient', 'enfouir', 'écriatelle', 'permanent', 'generously', 'inquiets', 'chaussons', 'troublait', 'international', 'portemaillot', 'ceux', 'entrait', 'manche', 'mollement', 'sort', 'sabre', 'riait', 'modification', 'marquise', 'tournées', 'cabrèrent…', 'mineure', 'couverte', 'turque', 'chanteur', 'embarrassé', 'satyre', 'moitié', 'flot', 'poli…', 'rougissants', 'autrefois…', 'poings', 'excitaient', 'bouleversé', 'pont', 'traversin', 'hold', 'embrassait…', 'saintlazare', 'locataires', 'curses', 'chargés', 'servant…', 'nous', 'lourd', 'what', 'huile', 'gêner', 'parapluie', 'enfin', 'plain', 'dépêchait', 'visages', 'soirslà', 'frôlé', 'rupin', 'intimidé', 'voulaient', 'amusait', 'saison', 'locations', 'indicating', 'turc', 'poursuivait', 'reflets', 'pense', 'bourse', 'florent', 'sonnait', 'accrocher', 'venir…', 'éveil', 'servit', 'étaient', 'lampes', 'ibels', 'héros', 'involontairement', 'attenait', 'goûté', 'délicieux', 'partirent', 'haussait', 'repoussé', 'dédaigneux', 'moucherons', 'ennuis…', 'rasés', 'dédale', 'perdu', 'énervée', 'couvent', 'troubler', 'intérieur', 'nonprofit', 'variety', 'marchand…', 'which', 'rougissait', 'enterrement', 'reste', 'alcôve', 'claim', 'exécution', 'défaillir', 'veste', 'cipayes', 'maladroitement', 'more', 'dînette', 'gonzesse', 'ways', 'possédait', 'embrassant', 'fatigué…', 'ressaisie', 'dessaleras', 'replongeait', 'restaurants', 'entraînait', 'fleurs…', 'louanges', 'appelezvous', 'days', 'surprise', 'lumineuse', 'risquer', 'incroyable', 'against', 'quittait', 'chien', 'occur', 'soupir', 'baron', 'dangereux', 'limited', 'prêta', 'jaune', 'occupé', 'mattchiche', 'regarder', 'genre…', 'monter', 'disaient', 'rentra', 'easy', 'épaule', 'sanglier', 'trouve', 'doigt', 'particularly', 'pendante', 'entendu', 'fromage', 'paisiblement', 'protégé', 'bonchour', 'tapis…', 'sera', 'asnières', 'salement', 'courte', 'donnée', 'étouffait', 'broussailles', 'cafetière', 'raconter', 'messe', 'porta', 'pensé', 'saisissante', 'bateau', 'performing', 'mêlés', 'oublié…', 'written', 'entré', 'marines', 'croyaient', 'pognon', 'bavarde', 'plaire', 'visitèrent', 'honneur', 'recommencé…', 'moquait', 'côté', 'gardes…', 'resté', 'caprice', 'permettez', 'jaunes', 'longuement', 'écornure', 'falloir', 'rupins', 'dent', 'renfoncement', 'toussa', 'locataire', 'passait', 'promenades', 'électriques', 'fougue', 'morne', 'remplit', 'distribute', 'bleu', 'personne', 'écrit', 'toile', 'nouveau', 'doigts…', 'mangé', 'recula', 'amazones', 'comptelà', 'gagner', 'souple', 'timbres', 'tomber…', 'ressort', 'tremblait', 'épiait', 'étourdie', 'dernier', 'gonflait', 'malades', 'trompe', 'émotion', 'georges', 'làbas', 'montré', 'reviendrait', 'dommage', 'montait', 'commençaient', 'laissée', 'présence', 'pétales', 'seconde', 'absinthe', 'soupirait…', 'pleuvait', 'couchée', 'mariée', 'vers', 'wwwgutenbergorg', 'toujours…', 'prendre', 'consigne…', 'compressed', 'reconnue', 'privation', 'joue', 'additional', 'editions', 'plateau', 'longeaient', 'décident', 'ombre…', 'baisait', 'emportait', 'laisserais', 'désirait…', 'tutoyaient', 'faisaitil', 'give', 'zoustement', 'envoyé', 'format', 'fiacre', 'volezvô', 'pas…', 'lyon', 'échouée', 'before', 'examina', 'cajolant', 'fierté', 'parti…', 'enfance', 'exergue', 'diriger', 'sarah', 'blancs', 'averses', 'sont', 'vaine', 'laissait', 'passât', 'dehors', 'gueuletons', 'carry', 'suffit', 'lyre', 'agents', 'œil…', 'fais', 'cœur…', 'used', 'portière', 'moments', 'cachant', 'remarqua', 'écriait', 'croisée', 'touchés', 'aimée', 'satisfait', 'lèche', 'livide', 'numéro', 'valet', 'files', 'bouzou', 'beauté', 'métier', 'aimés', 'attendri', 'general', 'emportez', 'life', 'choute…', 'pencha', 'quinine', 'concerts', 'bouteilles', 'plein', 'array', 'naïfs', 'apparence', 'chantant', 'veillait…', 'bêtes', 'dirigeant', 'chambéry', 'fermées', 'donors', 'there', 'poudre', 'statements', 'éclairage', 'hundreds', 'heureuse', 'chat', 'than', 'thus', 'suite', 'splendeur', 'rectangle', 'remit', 'têtu', 'changement', 'perçaient', 'copy', 'commence', 'huitième', 'change', 'fiche', 'voix…', 'tremblant', 'celuici', 'created', 'reconnaître', 'especially', 'boîte', 'language', 'lille', 'cigare', 'finit', 'partaient', 'troublé', 'école', 'donations', 'cloque', 'offert', 'indicate', 'rêveur', 'learn', 'tour', 'condamné', 'obtain', 'aventure', 'tombait', 'abondantes', 'vermouth', 'bavard', 'armoire', 'brave', 'lumineux', 'veux', 'infimes', 'alfred', 'soufflant', 'parlaient', 'easily', 'éventail', 'drouot', 'reprit', 'froids', 'tournant', 'éleva', 'ravit', 'fascination', 'arrivées', 'précédant', 'risquait', 'écartée', 'distinguaient', 'lisait', 'revit', 'unique', 'devenait', 'plaisirs', 'caressants', 'larmes', 'obscure', 'épuisée', 'attention', 'pauvre', 'silencieux', 'parler', 'méchante', 'essaie', 'pauv', 'poches', 'couverture', 'attristé', 'buisson', 'irréelle', 'rangées', 'cassé', 'réfléchit', 'file', 'vivait…', 'remonta', 'amoureusement', 'imbécile…', 'verres', 'swamp', 'établir', 'sien', 'bâillaient', 'parmi', 'taisaient', 'alexandre', 'meuble', 'déjeuné', 'brute', 'balançoires', 'disclaim', 'rosier', 'accablée', 'envoyés', 'noiraude', 'cabinet', 'promener', 'séparés', 'amoureuse', 'titjy…', 'durs', 'éteinte', 'pareils', 'fermer', 'suivit', 'réveillaient', 'étroit', 'ouvrir', 'moindres', 'sauvage', 'allow', 'copying', 'neuves…', 'patte', 'aube', 'travers', 'irait', 'détacha', 'étage', 'please', 'sapin', 'comportée', 'bouscula', 'gonflé', 'alla', 'lèvre…', 'menteur…', 'sauce', 'binary', 'nerveux…', 'devinât', 'lesquelles', 'actions', 'marche…', 'assoistoi', 'essayaient', 'élança', 'commandait', 'espèce', 'juin', 'frapper', 'gris', 'prêtezmoi', 'mœurs', 'maniéré', 'étirait', 'poussant', 'pauvrement', 'tirerait', 'chemin', 'débit', 'écœurement', 'business', 'champ', 'proposa', 'protected', 'injustice', 'distingué', 'meubles…', 'menait', 'étranger', 'maintaining', 'achevaient', 'étudiait', 'bougeant', 'levées…', 'dentlà', 'defective', 'mimi', 'étalait', 'deletions', 'marguerites', 'provisoirement', 'disposait', 'grec', 'madeleine', 'intacts', 'monde…', 'mars', 'several', 'volonté', 'mission', 'étrennes', 'dérobée', 'orge', 'sachant', 'devenu', 'chocolat', 'vieuxlà', 'soif', 'installée', 'agreement', 'arides', 'murmuraitelle', 'écrire…', 'parfums', 'fruitier', 'entrèrent', 'rencontrât', 'jambe', 'clair…', 'chimérique', 'folle', 'calculated', 'dirait', 'repas', 'inquiétude…', 'necessarily', 'jeanne', 'providing', 'cernés', 'imaginait', 'fallut', 'éclairait…', 'jardin', 'peines', 'dit…', 'absorber', 'achever', 'montant', 'assis', 'quarante', 'cou…', 'references', 'endormait', 'danger', 'soupira', 'antin', 'data', 'touchant', 'trompée', 'crachats', 'fantastiques', 'violates', 'seuls', 'moi…', 'away', 'accepting', 'barbe', 'grenoble…', 'rançon', 'hauteur', 'senties', 'esclave', 'amphithéâtre', 'bêtise', 'pétard', 'codet', 'gardait', 'dérangeait', 'arrêtetoi', 'détesté', 'aimerait', 'embusquaient', 'possible…', 'implied', 'franc', 'une…', 'instantanées', 'chacun', 'universelle', 'confirmation', 'sharing', 'under', 'faut', 'froide', 'works', 'souffla', 'regarder…', 'viendras', 'subitement', 'revu', 'enfant', 'grosses', 'plumard', 'allume', 'refermée', 'fête', 'monnaie', 'gouttes', 'trentesept', 'armes', 'murmuratelle', 'muette', 'property', 'aise', 'boutiques', 'champsélysées…', 'apéritif', 'défaisait', 'gosse', 'aimable', 'oublia', 'deux', 'donnait', 'monotones', 'hors', 'flamboyants', 'wwwgutenbergorglicense', 'consoler…', 'jusque', 'étonné', 'chaises', 'momentslà', 'fioles', 'pincée', 'pleurait…', 'bâtisse', 'causait', 'malade', 'avais…', 'charitable', 'léon', 'negligence', 'tabatière', 'logeur', 'éblouissantes', 'semé', 'trottoir', 'instrument', 'existé', 'bound', 'rules', 'soutenu', 'passais', 'demandait', 'insouciance', 'profits', 'magnifiques', 'même', 'sanglot', 'employees', 'specified', 'partis', 'oseille', 'précieux', 'continue', 'prêt', 'saisissement', 'vues', 'chances', 'tirait', 'lake', 'vilains', 'cinquante', 'entourée', 'paraître', 'ébouriffée', 'original', 'chopes', 'roulait', 'certainement', 'additions', 'mise…', 'travaillé', 'paient', 'voistu', 'detach', 'alignés', 'garder', 'profiter', 'trouvent', 'escalope', 'témoigné', 'ascii', 'discret', 'faites', 'donnerez', 'tempslà', 'suivaient', 'singulier', 'fatiguée', 'excitation', 'moderne', 'mangea', 'mette', 'prodige', 'peu…', 'envoyée', 'frisé', 'facile', 'sous', 'pourvu', 'refrusquer', 'conduisent', 'aiguille', 'compagne', 'aperçut', 'savoir', 'sens', 'such', 'service', 'invalidity', 'regardaientils', 'précautionneux', 'unlink', 'full', 'mignon', 'dépassé', 'juger', 'fallières', 'sourires…', 'fichu', 'oubliées', 'laine', 'fait', 'rage', 'députés', 'irons', 'vaincre', 'fifi', 'écoutaient', 'voler', 'ambulance', 'incomplete', 'juifs', 'éperdus', 'promenions', 'certains', 'chapeaux', 'heureux…', 'énervante', 'appris', 'however', 'soixante', 'plaque', 'purs', 'étend', 'avais', 'craignit', 'était', 'descendus', 'tunis', 'plantée', 'gérant', 'reposée', 'rencontré', 'bleus', 'sœurs', 'ressaisi', 'avança', 'perdre', 'fondait', 'réponse', 'compliquées', 'compte', 'économies', 'remarqué', 'passa', 'têtes', 'links', 'commissions', 'anglaise', 'timidité', 'monocle', 'carton', 'araignée', 'ancienne', 'contraire', 'parut', 'puits', 'égale', 'apprêteur', 'bord', 'effondra', 'envie', 'bredouillé', 'orgues', 'plage', 'torpeur', 'ressortit', 'coudre…', 'cocotte', 'convalescentes', 'grandhôtel', 'that', 'soulevait', 'considerable', 'sauf', 'attardait', 'treatment', 'jupon', 'flétrie', 'vrai', 'calot', 'moulin', 'sublimes', 'voyageurs', 'forme', 'travaillera', 'embête…', 'flacon', 'découvre', 'modiste…', 'corset', 'cycliste', 'prête', 'chiffonner', 'pausole', 'quatre', 'infirmières', 'tordant', 'fracas', 'impossible', 'trèfle', 'enrhumée…', 'mômelà', 'englishes', 'hésitation', 'pied…', 'revenant', 'marronniers', 'receipt', 'discover', 'brusques', 'détachés', 'laisse', 'commandé', 'luxe', 'entraîneur', 'generations', 'interne', 'complying', 'casquette', 'arriver…', 'dépouille', 'ennuyait', 'décrivait', 'flanelle', 'toujours', 'couvert', 'aventures', 'panier', 'écroulât…', 'timide', 'voyait', 'feuilletait', 'ralentit', 'verdoyante', 'laissa', 'montrer', 'propres', 'pitié', 'odeurs…', 'minute', 'temps', 'rares', 'électrique', 'amérique', 'craintif', 'revue', 'retire', 'faufiler', 'changements', 'caisse', 'voisin', 'charles', 'parfum', 'défendait', 'fraisette', 'enveloppe', 'traversa', 'allais', 'nulle', 'gêné…', 'charities', 'lafayette', 'reçue', 'entr', 'paris', 'assassinée', 'disparaissait', 'naïve', 'mittelette', 'angoisse', 'éprouva', 'goût', 'retard', 'pressa', 'totote…', 'renvoyée', 'tricotait', 'paying', 'légère', 'shared', 'comprimée', 'sympathique', 'assises', 'seul', 'hiver', 'huit', 'partant…', 'magasins', 'rêvait…', 'très', 'décidé', 'étages', 'discrète', 'nougat', 'couples…', 'passionnés', 'costume', 'trouvant', 'amant…', 'attendaient', 'boire', 'sacrifice', 'monta', 'abandonné…', 'sourde', 'français', 'barbottait', 'cellelà', 'obscurité', 'sentiment', 'abandon', 'paquet', 'exquis', 'redistributing', 'examinait', 'mélancolie', 'amputés', 'peignes', 'étendu', 'mouillés', 'courant', 'collé', 'vertueux', 'poing', 'gauche', 'gentille', 'parcouraient…', 'gelait', 'universellement', 'immense', 'demitour', 'voient', 'crânes', 'boulogne', 'liserons', 'touzours', 'rasseyait', 'âgée', 'deviné', 'basse', 'peur', 'lauriersroses', 'gironde', 'allée', 'arrivaient', 'sombre', 'hôpital…', 'seize', 'calmé', 'chalet', 'brodée', 'corrupt', 'outside', 'délicieuses', 'medium', 'envoyait', 'camelot', 'reuse', 'concentrée', 'couvrepied', 'sucrée', 'offrait', 'caresse', 'blague', 'journaux', 'gaminait', 'intimidait', 'forty', 'couper', 'pressés', 'songeaient', 'mois', 'mêlait', 'machines', 'pourrait', 'foyers', 'calotte', 'mirettes', 'vertigineuse', 'mal…', 'obsolete', 'savait', 'payait', 'année', 'firent', 'quatorze', 'écoutait', 'commandements', 'prochainement', 'aura', 'writing', 'désert', 'increasing', 'when', 'parlerait', 'veau', 'avaient', 'cafés', 'alternate', 'affaire', 'années', 'poulets', 'shampoing…', 'orgueil', 'voulaitelle', 'abattement', 'connaît…', 'vilaines', 'persil', 'guérir', 'peine', 'glissa', 'hardie', 'vengeance', 'rideau', 'commander', 'dura', 'guère', 'coins', 'droite', 'mourut…', 'vélodrome', 'murmurer', 'rendait', 'solicit', 'henry', 'rapporter', 'gôsse', 'updated', 'confessant', 'efforts', 'wepler', 'retourna', 'while', 'delcassé', 'idéale', 'newyork', 'lequel', 'hommes…', 'séparée', 'mange', 'within', 'défense', 'compris', 'lierre', 'refus', 'bouché', 'vienne', 'plongeon', 'hollande', 'journées', 'brûlait', 'descendre', 'raffolent', 'mordait', 'voiture', 'affalée', 'plaisir', 'frappait', 'canton', 'machine', 'remuaient', 'freely', 'ourlet', 'délire', 'including', 'intimider', 'insistait', 'fini…', 'requirements', 'aperçu', 'ruban', 'profondément', 'pièce', 'maternel', 'taire', 'habituée', 'vielà', 'cercle', 'anciennes', 'banquettes', 'comptait', 'énervé', 'credits', 'fait…', 'maurice', 'inquiet', 'flattée', 'regardé', 'paquet…', 'lasse', 'chercha', 'sylvie', 'rappelait', 'automne', 'vieille', 'dire…', 'fléchir', 'logements', 'passaient', 'ouvre', 'mers', 'royale', 'casser', 'tombaient', 'oiseau', 'traînées', 'physique', 'glabres', 'géraniums', 'chinaient', 'auraient', 'afrique', 'éprouve', 'bruges', 'impatiente', 'minces', 'plaintive', 'distraire', 'embarrasser', 'chic', 'actual', 'navigateur', 'bien…', 'agreed', 'bâillait', 'foule', 'soir…', 'audacieux', 'tempes', 'redouter', 'fallait', 'souillées', 'redistribute', 'oblique', 'montre', 'balles', 'bébé…', 'grossit', 'faite', 'reproduction', 'quêteurs…', 'souvenirs', 'océan', 'décor', 'tenir', 'quotidiennes', 'infringement', 'engagea', 'besoins', 'based', 'conduisit', 'tordaient', 'affluence', 'contente…', 'sautait', 'leva', 'histoire', 'passions', 'bois', 'maigre', 'appliquée', 'avenir…', 'inévitable', 'rêves', 'crainte', 'dînèrent', 'abandonnaient', 'travaillait', 'place…', 'entends…', 'chinait', 'laissant', 'doit', 'foundation', 'hôpital', 'peignoir', 'facility', 'redevenir', 'plaisantait', 'aimaientils', 'return', 'passants', 'décidait', 'state', 'read', 'dégoûtait', 'survive', 'tendu', 'précipitamment', 'passage', 'partagé', 'sourire', 'malgré', 'petit', 'pliaient', 'céard', 'temps…', 'délicieusement', 'extraordinaire', 'chemise', 'portait', 'prévenus', 'troublée', 'sacré', 'arrivé', 'disk', 'performances', 'should', 'aprèsdemain', 'roula', 'pied', 'louait', 'opportunities', 'balbutiatil', 'conserver', 'unsolicited', 'maeterlinck', 'valsent', 'employer', 'lointains', 'maltraitait', 'pensiez', 'available', 'immobile', 'aurais', 'touchera', 'passèrent', 'battaient', 'corridor', 'provence', 'plaisaient…', 'contenait', 'brusque…', 'coulé', 'each', 'defect', 'harmless', 'saut', 'marché', 'rivières', 'goals', 'giberton', 'respirations', 'marcha', 'often', 'pris', 'découvrait', 'fumait', 'small', 'allumette', 'aimait', 'right', 'garçon', 'croyaitelle', 'paresseusement', 'frissonnant', 'visite', 'larges', 'pourboire', 'approchaient', 'dorée…', 'rentrerai', 'given', 'arrivait', 'porte…', 'auber', 'soir', 'habite', 'tonsure', 'ferme', 'grattait', 'rosée', 'provided', 'saouls', 'accroc', 'onze', 'billet', 'étroite', 'route', 'minute…', 'équipages', 'dégoûte', 'rêveries', 'dévisageait', 'plaisait…', 'appuya', 'fané', 'échapper', 'conspirait', 'feras', 'demandé', 'considérer', 'déconsidération', 'difficile', 'entrent', 'espace', 'interpreted', 'choisirent', 'parlent', 'saisissait', 'method', 'entity', 'tuer', 'confidences', 'bertillon', 'cria', 'hier', 'bossu', 'coupable', 'approcher', 'engueulait', 'dise…', 'dans', 'meunier', 'modified', 'acquérir', 'montagnes', 'mississippi', 'auteur', 'heureuse…', 'complète', 'absolu', 'envolent', 'habillé', 'juste', 'alteration', 'arriveraient', 'prevent', 'femmes…', 'train', 'joliment', 'fièvre', 'robinets', 'attente', 'apparaissait', 'accessed', 'surgissait', 'sinistre', 'quoiqu', 'robes', 'soirée', 'traversé', 'épongeait', 'collection', 'singe', 'infirmière', 'jetés', 'effrayé', 'excepté', 'respectait', 'consolera', 'anonyme', 'souis', 'fortune', 'livres', 'désolait', 'provide', 'frissonna', 'osait', 'acharnée', 'referma', 'redescendait', 'jeun', 'oreiller…', 'habille', 'complet', 'traitait', 'parole', 'solennel', 'passerelle', 'allumait', 'immenses', 'verre', 'formant', 'réveillait', 'triste', 'guettait', 'bnfgallica', 'sœur', 'lépine', 'courut…', 'lever', 'tint', 'retrouvés', 'arrivée', 'assit', 'sais', 'asseyait', 'ressembles', 'fixait', 'respiration', 'ralentissant', 'préférait', 'hâtait', 'œufs', 'crie', 'tourné', 'effrayait', 'vice', 'appear', 'secoué', 'mecs', 'group', 'assez', 'cils', 'michets', 'receive', 'fitil', 'sensuel', 'éventails', 'endiguer', 'livrée', 'form', 'voulu', 'forts', 'receiving', 'venez', 'cinquantaine', 'abondaient', 'parole…', 'scène', 'habiller', 'amenait', 'pousse', 'tombent', 'readable', 'selon', 'considérée', 'tellement', 'acheté', 'étouffements', 'endorment', 'empoisonneur', 'chine', 'ouvrières', 'jurons…', 'arrangé', 'trouva', 'paré', 'entendre', 'federal', 'réalité', 'jeter', 'accompagnée', 'united', 'vais', 'gaston…', 'received', 'volets', 'creation', 'visiteurs', 'habillée', 'abide', 'envahissait', 'takes', 'zola', 'ferai', 'vadrouilleur', 'billets', 'revivait', 'source', 'cela…', 'douze…', 'bertha', 'marrons', 'intéressaient', 'suitil', 'redingotes', 'occupe', 'demandatelle', 'criaient', 'bougie', 'exil', 'amoureuses', 'décidée', 'famille', 'sortit', 'gars', 'gibelotte', 'chiqué', 'buvant', 'revenir', 'président', 'must', 'enchanta', 'siens', 'écoute', 'chiffonnés', 'valent', 'devinait', 'mugissement', 'pincé', 'plateaux', 'battait', 'scrupule', 'éblouissants', 'béguin', 'savourait', 'croisait', 'vêtu', 'propriétaires', 'elles', 'flâne', 'bars', 'faisait', 'costs', 'connu', 'souffrirait', 'faillit', 'tartine…', 'french', 'pure', 'beau', 'agiles', 'doivent', 'protect', 'sommes', 'vidée', 'course', 'accoutumés', 'émue', 'montraient', 'comptoir', 'mirbeau', 'poignée', 'casquettesbérets', 'rumeur', 'trois', 'lumières', 'mutines', 'repartir', 'frusquer', 'tournent', 'éloigner', 'répondre', 'remué', 'étendue', 'fameux', 'pipes', 'secure', 'semaines', 'commanda', 'repensé', 'whom', 'austérité', 'fini', 'gobe', 'commercial', 'voulut', 'docile', 'réchauffer', 'expliquer', 'êtes', 'outdated', 'tirée', 'battus', 'soigné', 'égarement', 'retombée', 'directement', 'insouciant', 'méprisable…', 'élan', 'affairé', 'habitudelà', 'double', 'minuit', 'maître', 'reprises', 'ensuring', 'bridés', 'poussière', 'impersonnelles', 'reprise', 'fout', 'juliette', 'désordre', 'buter', 'fous', 'voulezvous', 'floury', 'vagues', 'cousait', 'galopade…', 'travaille', 'poste', 'moyen', 'nettoyer', 'alanguis', 'described', 'finissait', 'come', 'compilation', 'contente', 'réjouirait', 'pleuvoir', 'dents', 'douloureux', 'cauchemars', 'profonds', 'pointes', 'aussi…', 'jalousent', 'imposed', 'midi…', 'subsistait', 'courait', 'respectaient', 'appuyait', 'souvenir', 'manquait…', 'écraser', 'préparait', 'séparé', 'jeudi', 'reconnaissance', 'quelqu', 'mort', 'coco', 'rigolez', 'stock', 'frémissante', 'gages…', 'tapaient', 'loose', 'abandonner', 'prêts', 'promener…', 'exclusion', 'viendra', 'approchait', 'mangeait', 'bout', 'entendait', 'excuse', 'pendant', 'étourdissait', 'infiniment', 'trouverait', 'chancelante', 'meublée', 'honorée', 'dandinait', 'plaît…', 'forçaitelle', 'mettraient', 'tenant', 'celleci', 'bleues', 'print', 'possession', 'râpée', 'grelottait', 'voyez', 'devant', 'trésor', 'manière', 'racontemoi', 'rappela', 'pitoyable', 'understand', 'consequential', 'saintroch', 'venu', 'quittèrent', 'alors', 'frais', 'innocent', 'chrétiennement', 'billes', 'féminines', 'uniform', 'tromper', 'plastrons', 'verra', 'ornière', 'désirait', 'viennent', 'vite', 'assassinat', 'regardais', 'abandonnée', 'allongeait', 'title', 'naples', 'gigolettes', 'japonaise', 'tiré', 'inquiétaient', 'noir', 'solitaire', 'champêgne', 'rêve', 'limpide', 'accrochent', 'votre', 'ennuya', 'surchauffées', 'machinalement', 'remedies', 'clair', 'charges', 'disait', 'meudon', 'colonne', 'cassait', 'accoudait', 'naturisme', 'cramponnais', 'maquereaux', 'content', 'révolta', 'comique', 'reconnaissant', 'continua…', 'servait', 'orchestre', 'mauvais', 'étalages', 'remuant', 'indigné', 'malheur', 'ouvertes', 'caumartin', 'pique', 'jolies', 'ruine', 'paysages', 'transparentes', 'restait', 'fermait', 'jeta', 'liability', 'vérité', 'trottoirs', 'upon', 'bonne', 'ferait', 'déchiré', 'saintbenoît', 'rêvait', 'roseaux', 'addition', 'supportant', 'partant', 'jacassant', 'boulevards', 'transcribe', 'suivra', 'sienne', 'finir', 'aimé', 'bretelles', 'souviens', 'parce', 'création', 'malheur…', 'réussit', 'tapis', 'arrivaient…', 'saccadée', 'faisais', 'étincelait', 'presqu', 'mimi…', 'vertige', 'vierge', 'voilà', 'offers', 'abandonnait', 'dégoût', 'croûte', 'cachait', 'honnête', 'ramasser', 'souriait', 'burent', 'owns', 'appelle', 'écœurait', 'dois', 'brillantes', 'battue', 'habits', 'usaient', 'clients', 'marchand', 'devient', 'livre', 'guérie', 'rêvé', 'ventilateur', 'paillasson', 'gagnant', 'rougissait…', 'répondit', 'envole', 'creating', 'dépouilla', 'sourit', 'crottées', 'dame', 'étirer', 'toucher', 'paroles', 'bostock', 'semblable', 'crue', 'ébouriffés', 'arranger', 'embrassée', 'tombe', 'inerte', 'paper', 'blessé', 'hope', 'représentait', 'arriver', 'près', 'balcon', 'ensemble', 'merchantability', 'paya', 'ramages', 'noce', 'yeux', 'titre', 'galerie', 'defects', 'répugnait', 'jambes', 'rossignol', 'remuait', 'florentin', 'lundi', 'pleure', 'tableau', 'griffer', 'obéir', 'jours', 'relevées', 'éclairs…', 'rappelât', 'peinard', 'paysage', 'empresser', 'penchée', 'representations', 'voyages', 'neuves', 'loger', 'encore…', 'générale', 'ramené', 'opium', 'couchaient', 'suait', 'appliquant', 'creusée', 'aimes', 'penchant', 'tomber', 'succédées', 'échappe', 'éloignement', 'envisager', 'pouls', 'décida', 'entendant', 'suivie', 'simulacre', 'cigarettes', 'pleuvait…', 'roupille', 'penser', 'saintgervais', 'continuait', 'city', 'blanche', 'accordance', 'agneau', 'narine', 'travail', 'répétait', 'quet', 'louis', 'existait', 'vraie', 'rêvant', 'rentrez', 'sanguinaire', 'préfectance', 'rigoler', 'voit', 'ferais', 'confiante', 'électricité', 'provisions', 'reprisés', 'montmartre', 'reported', 'vendeur', 'éclats…', 'taille', 'sortant', 'placard', 'tués', 'immédiatement', 'molle', 'even', 'obtaining', 'absinthe…', 'espère', 'mêlée', 'chichinette', 'autre', 'widest', 'cacher', 'acceptait', 'piano', 'blaguait', 'pure…', 'journal', 'livrait', 'totote', 'américaine', 'revenue', 'éloigna', 'croisé', 'sentiments', 'contemplaient', 'linked', 'pensezvous', 'zigzags', 'electronic', 'mégot', 'intéressait', 'traqua', 'lapins', 'cernure', 'rentrait', 'étoffe', 'efforcer', 'gémissement', 'géométriques', 'refrains', 'sûrement', 'discrètement', 'avenue', 'attardée', 'manqua', 'demander', 'mouillé', 'allant', 'dépensé', 'marchent', 'apprentie', 'léger', 'voyageur', 'bête', 'propositions', 'méchanceté', 'fine…', 'avant', 'manteaux', 'guitare', 'revenue…', 'compagnon', 'étudiants', 'rhume', 'important', 'prendra', 'matinée', 'revenues', 'sang', 'peuton', 'moquer', 'entrevoir', 'illuminée', 'glisser', 'chérissait', 'already', 'tiroir', 'one—the', 'tambourmajor', 'avaitil', 'embarrassées', 'pglaf', 'légères', 'trou', 'reprenant', 'verte', 'tapait', 'part', 'talus', 'soigneusement', 'paire', 'décourageait', 'parlait', 'émile', 'références', 'assistance', 'précieuse', 'promettait', 'remporter', 'zanzis', 'apparu', 'insupportable', 'carreau', 'salles', 'déshabiller', 'affection', 'violence', 'ressentait', 'malheureuse', 'corbeille', 'délicieuse', 'furent', 'surprenait', 'champoreau', 'toi…', 'délicates', 'parée', 'pourquoi', 'secret', 'glissé', 'rassurait', 'dimanche', 'caressée', 'changé', 'brisé', 'displaying', 'redistribution', 'leurs', 'checks', 'douai', 'chance', 'dernière', 'jugement', 'hear', 'occupaient', 'lentement…', 'rose', 'terrible', 'servi…', 'sage', 'jupe', 'have', 'saison…', 'ebook', 'without', 'eugène', 'sales', 'autrement', 'brune', 'rapins', 'demidouzaine', 'fripés', 'petites', 'violentes', 'lambeaux…', 'réussissait', 'ridicule', 'ouvrière…', 'serra', 'contre', 'manquait', 'imitations', 'blonde', 'arrièreboutique', 'blondes', 'chéri…', 'occasions', 'seul…', 'profonde', 'prises', 'voudrais', 'lézards', 'celuilà', 'apporté', 'déroutaient', 'sombrement', 'jeton', 'spontanéité', 'tandis', 'gentil', 'rigolade', 'panache', 'indifférent', 'affaiblie', 'lard', 'aboutir', 'tata', 'royalty', 'venaient', 'métamorphosé', 'embrasser', 'horrible', 'aujourd', 'paye…', 'escalier', 'fasse', 'whatsoever', 'victor', 'connut', 'heures', 'gonflées', 'jetait', 'rejoindras', 'commencements', 'gentille…', 'gigot', 'legal', 'mise', 'allons', 'revinrent', 'saluant', 'foire', 'retirée', 'échange', 'garenne', 'senti', 'entra', 'amis', 'boniments', 'distributor', 'rhabiller', 'saisir', 'portaient', 'pommade', 'ceci', 'endormi', 'expense', 'pouvoir', 'organized', 'extrait', 'désolée', 'fallu', 'miel', 'méchant', 'pèlerine', 'entrée', 'ardente', 'boxe', 'fond', 'mirent', 'trot', 'draps…', 'danse', 'histoires', 'dense', 'embrasait', 'promotion', 'sentissent', 'stériles', 'couteau', 'litres', 'plet', 'noyée', 'laborieux', 'tricote', 'derrière', 'attroupèrent', 'motlà', 'mur…', 'crème', 'matemoiselle', 'genève', 'chatouillait', 'comédie', 'remua', 'raccommoder', 'découvrant', 'demandaient', 'serrait', 'comprend', 'mouillée', 'mouillées', 'paillons', 'perdaient', 'jusqu', 'practically', 'rues', 'connaissent', 'bossus', 'nichait', 'baiser', 'mener', 'chemises', 'veine', 'respirer', 'endormir', 'rappelle', 'satisfaite', 'comprise', 'travaillé…', 'masse', 'égal', 'réflexions', 'replacement', 'lieutenants', 'froid', 'individual', 'plaine', 'bâilla', 'savaient…', 'word', 'sortez', 'gosse…', 'horribles', 'bruyantes', 'logeait', 'only', 'pharmacie', 'refund', 'hommelà', 'adresse', 'séduire', 'connais', 'passée', 'assombrissait', 'couchait', 'chœur', 'gazon', 'manches', 'trouées', 'affaires…', 'because', 'nationale', 'devint', 'cachecorset', 'mâcher', 'agitée', 'routine', 'seulement', 'protégée', 'garçonlà', 'tin…', 'examinée', 'tomba', 'étais', 'sucres', 'same', 'douces', 'verrou', 'quitterait', 'remplie', 'débordait', 'grosse', 'ronds', 'money', 'offrit', 'couloir', 'idées', 'transvaal', 'entièrement', 'sais…', 'garçons', 'essai', 'mena', 'marcher', 'ténébreuse', 'emmène', 'faits', 'allumant', 'remonte', 'honteux…', 'nuit', 'tournaient', 'provision', 'presque', 'brutal', 'inviter', 'remis', 'provins', 'pensaient', 'grisé', 'notifies', 'retirait', 'raide', 'modèles', 'verras', 'autres', 'accusais', 'mollasse', 'pour', 'illusions', 'zinc', 'obstinément', 'moineaux', 'gourmandise', 'lointain', 'sept', 'effets', 'bifteck', 'tapota', 'méchanceté…', 'paragraph', 'avance', 'paraissait', 'jeunesse', 'scholch', 'musicien', 'octave', 'inscription', 'ronflements', 'mardi', 'chauffé', 'amples', 'surveillait', 'fatigué', 'quant', 'paraît', 'lançait', 'special', 'brasserie', 'quoi', 'chatouiller', 'quémandeuse', 'insultait', 'tendresse', 'disent', 'hélas', 'pâle', 'force', 'choisir', 'inconnue', 'brillant', 'devenir', 'désarroi', 'palmier', 'ventre', 'mettre', 'meilleur', 'donation', 'grenelle', 'inscrire', 'intéressa', 'intérieurement', 'disclaimer', 'allemands', 'salaire', 'visiblement', 'balançait', 'existence', 'buvait', 'terms', 'cigarette', 'repris', 'avançaient', 'dénûment', 'demi', 'pierre', 'domestique', 'regards', 'réfléchir', 'allions', 'certain', 'êtres', 'pluie', 'souri', 'même…', 'aussi', 'dépensent', 'sortaient', 'bocks…', 'lutter', 'respect', 'penché', 'remerciant', 'effaçait', 'pampelin', 'polka', 'boissons', 'volent', 'joie', 'insignifiante', 'chiottes', 'croûter', 'raisonnable', 'négresse', 'portrait', 'pêcher', 'entamé', 'pavé', 'trouvaient', 'irai', 'lecture', 'maladive', 'fuyaitelle', 'balai', 'bonheur…', 'départ', 'visit', 'foisci', 'domain', 'culoz', 'manque', 'écouté', 'redevint', 'cancer', 'pudiquement', 'faire', 'enfants', 'demain', 'bande', 'singulière', 'coûte', 'ricanait', 'amoureux', 'méchants', 'haute', 'descendaient', 'môme', 'résignation', 'anglais', 'affreuse', 'facultés', 'toilette', 'làhaut', 'voyant', 'libre', 'clef', 'poisson', 'emmener', 'sections', 'adolescence', 'rouge', 'regulating', 'bienêtre', 'dixsept', 'trouvait', 'jalousie…', 'jatte', 'serré', 'lentement', 'filet', 'beau…', 'riche', 'venait', 'access', 'disclaimers', 'cheveux', 'nourrissaient', 'retomber', 'warranties', 'charcutiers', 'marseille', 'choisissait', 'aimât', 'innocents', 'pensa', 'appuyer', 'sable', 'cherché', 'ensommeillée', 'gourmand', 'type', 'sophie', 'surface', 'aiment', 'tira', 'coudre', 'comprit', 'fendait', 'chapitre', 'soigner', 'supérieur', 'matins', 'voltaire', 'méprisent', 'reports', 'soudain', 'dandinant', 'errant', 'rêveuse', 'pleine', 'viens', 'épuisait', 'murs', 'saignait', 'cease', 'bonnes', 'allégresse', 'work', 'repassait', 'bourdit', 'bœufs', 'parler…', 'chagrin…', 'enfer', 'aimait…', 'interprète', 'dépêchant', 'aurai', 'destinée', 'enghien', 'naguère', 'envoi', 'montaient', 'noua', 'attrapera', 'étala', 'main…', 'visière', 'écarquillés…', 'particulière', 'ennuyeux', 'vite…', 'noire', 'mornes', 'ombrelle', 'ravissement', 'discussions', 'ressuscitait', 'remonterait', 'admirait', 'cochon', 'dérisoire', 'adossées', 'souliers', 'nouveau…', 'pénètrent', 'roch', 'brillaient', 'balayer', 'jetèrent', 'dentelles', 'pareille', 'docilement', 'demie', 'saoule', 'concert', 'froid…', 'restrictions', 'indirectly', 'vivre', 'determine', 'méprisant', 'vacarme', 'centre', 'located', 'troubla', 'noires…', 'lampe', 'attentive', 'convert', 'prise', 'ouvrait', 'sourires', 'sending', 'from', 'prologue', 'considéraient', 'trottins', 'spectacle', 'lits', 'attend', 'rues…', 'après', 'reprend', 'libellules', 'frappée', 'pensait', 'affaires', 'commencements…', 'semelle', 'croyait', 'fenêtre', 'remords', 'écrirait…', 'surtout', 'sèche', 'énervement', 'cordon', 'immobiles', 'auparavant', 'lâche', 'redescendre', 'gentiment', 'permitted', 'matin', 'consolantes', 'surpris', 'draps', 'address', 'sent', 'clignés', 'fraîches', 'classe', 'bourrée', 'avenir', 'patienter', 'emballer', 'bath', 'pendule', 'encadra', 'éclairs', 'contract', 'dranquille', 'arpète', 'trains', 'aveuglément', 'suis', 'dames', 'privé', 'malle…', 'bouffées', 'tohubohu', 'piste', 'favorable', 'pensif', 'magasin', 'sincérité', 'gâterie', 'ouvrier', 'vécu', 'ennuyée', 'empeste', 'concerning', 'reaching', 'fasquelle', 'enseignes', 'friperie', 'remplacé', 'laissez', 'sait…', 'donate', 'piedmou', 'danser', 'regard', 'misère', 'étonna', 'vivres', 'précaution', 'souvint', 'monsieur…', 'adieu', 'caractère', 'couples', 'incohérente', 'interrompit', 'deuil', 'approchée', 'chaîne', 'savent', 'taisait…', 'chaussures', 'puis…', 'redescendue', 'panier…', 'reasonable', 'riant', 'filait', 'vois', 'importait', 'grisait', 'champs', 'raconter…', 'embêta', 'semblait', 'éprouvé', 'animait', 'buste', 'redescendant', 'seraient', 'tiède', 'bains', 'rive', 'péril', 'banc', 'merle', 'conservé', 'chevaux', 'baisers', 'proprietary', 'rangée', 'license', 'francs', 'noël', 'release', 'passaitil', 'arbre', 'découvertes', 'makes', 'piles', 'indirect', 'adorable', 'sinon', 'paradis', 'dieppe', 'demande', 'fitness', 'grand', 'fiévreux', 'canaille', 'échouait', 'impression', 'remonter', 'toilettes', 'pareil', 'prince', 'attelages', 'arrivât', 'cherchait', 'retournaient', 'rejoignait', 'faubourg', 'relevant', 'lieu', 'hepp', 'bouge', 'tours', 'collier', 'hôtel', 'responsabilités', 'gaston', 'mauvaise', 'demeura', 'descendirent', 'tumulte', 'éblouissement', 'website', 'publication', 'remerciât', 'habitent', 'sentaient', 'maigres', 'blottir', 'glatigny', 'soirlà', 'chamberlain', 'coiffeur', 'meet', 'contents', 'ditelle', 'artilleur', 'restent', 'problem', 'circuler', 'épicière', 'gouailler', 'suffocante', 'gratta', 'patagon', 'morte', 'poids', 'tuer…', 'brun', 'confiant', 'apprivoisé', 'journée', 'certitude', 'lanterne', 'opportunity', 'ayant', 'plume', 'rubans', 'blaguer', 'need', 'arrivants', 'signe', 'liable', 'brusque', 'bancs', 'làdessus', 'owner', 'soulier…', 'droit', 'subject', 'mesure', 'downloading', 'écria', 'vive', 'descend', 'charge', 'console', 'poêle', 'malheureux', 'étrangers', 'terrains', 'balade', 'orientale', 'poussée', 'incroyablement…', 'pressenti', 'semblant', 'pleuvoir…', 'directly', 'clarté', 'library', 'étrangère', 'souvent', 'bordait', 'sautillait', 'hâlé', 'ménages', 'bourgeois', 'contributions', 'fortes', 'teinturière', 'mourir', 'boivent', 'courts', 'incertain', 'filtré', 'figurer', 'search', 'réponditelle', 'convenable', 'évanouissait…', 'cauchemar', 'vie…', 'ferma', 'tard', 'carré', 'sentant', 'obéissante', 'carreaux', 'mots', 'géniaux', 'suzanne', 'patronne', 'étonnants…', 'dessin', 'perd', 'soies', 'user', 'membres', 'francisco', 'racontait', 'monte', 'nouveauté', 'autrement…', 'menton', 'volunteer', 'anglaises', 'résolu', 'volunteers', 'suivi', 'baie', 'heureusement', 'nouvelles', 'daudet', 'précipita', 'chaise', 'attentif', 'veulent', 'connaissait', 'vendait', 'check', 'entendue', 'frisson', 'ramer', 'donnent', 'cheval', 'retournait', 'décembre', 'baissés', 'entourait', 'roux', 'passetemps…', 'perdait', 'versait', 'fument', 'brûlé', 'tort', 'bouger', 'touslesjours', 'hommages', 'plus', 'rejoint', 'motslà', 'habillait', 'comprît', 'hésitais', 'donna', 'attends', 'décidément', 'réveilmatin', 'distraitement', 'connaissance', 'demifous', 'peuh', 'défilaient…', 'remarqué…', 'marcelle', 'processing', 'beaux', 'joyeusement', 'désormais', 'descendait', 'enceinte', 'whenever', 'découragement', 'décider', 'diminuer', 'cesse', 'ramenée', 'dominant', 'crois', 'écrivait', 'métiers', 'bibliothèque', 'tact', 'blême', 'maman', 'salaud', 'atonie', 'départs', 'manille', 'cocher', 'reading', 'gracieux', 'épais', 'destroy', 'poitrine', 'alluma', 'calme', 'levèrent', 'sifflait', 'discontinue', 'copains', 'gosses', 'roulement', 'retrouvait', 'rencontrant', 'attendre', 'periodic', 'ronronnant', 'grommela', 'donc', 'found', 'tabac', 'hospice', 'assommer', 'rôdait', 'félix', 'fausse', 'monsieur', 'sale', 'manquent', 'flottaient', 'allemande', 'accent…', 'demanderai', 'intérêt', 'forcé', 'ascenseur', 'fils', 'trinité', 'affolés', 'fâcherait', 'auto', 'enveloppées', 'paie', 'rides', 'disais', 'celui', 'dominée', 'réverbères', 'boursier', 'cœurs', 'promoting', 'brosses', 'glacés', 'gênée', 'version', 'venue', 'autour', 'frissonnait…', 'abattue', 'dessous', 'davantage', 'indocile', 'trouvestu', 'returns', 'rejeté', 'occasions…', 'ombres', 'nouveaux', 'raffinement', 'vastu', 'card', 'songeant', 'choose', 'flaquaient', 'enveloppée', 'lyon…', 'tramway', 'encourageait', 'gagné', 'fruit', 'nervosité', 'agaçait', 'limitation', 'platanes', 'refermait', 'changea', 'examinant', 'ciel', 'glaces', 'bibliothèquecharpentier', 'cœur', 'hypertext', 'policeman', 'boiserie', 'meubles', 'ligne', 'prêtes', 'entretiens', 'éloignement…', 'avide', 'écriteau', 'connue', 'creusé', 'sommet', 'samedi', 'oppressée', 'effet', 'royalties', 'payments', 'vacances', 'others', 'éclairée', 'aidemajor', 'cartes', 'brandie', 'enfermé', 'away—you', 'rappelant', 'deductible', 'comprenait', 'coiffé', 'prétexte', 'situation', 'cents', 'ronflement', 'saintlaurent', 'honteuse', 'perdue', 'faiblement', 'élevaient', 'épinal', 'supplice', 'mauvais…', 'encore', 'fumaient', 'doucement', 'primaires', 'synonymous', 'amie', 'subit', 'enviait', 'moelles', 'passionné', 'trop', 'sournoisement', 'baissée', 'years', 'sauté', 'plancher', 'calculate', 'amour', 'coup', 'veuille', 'paru', 'inconnu', 'soudainement', 'appuyée', 'dormit', 'crèche', 'antisémite', 'agree', 'présent', 'reparaîtrait', 'fermerais', 'intellectual', 'retrouvées', 'olympia', 'plafond', 'forge', 'surviennent', 'vue…', 'outre', 'naître', 'continental', 'preserve', 'perles', 'adouci', 'paragraphs', 'exaspérait', 'souriant', 'demeurait', 'évocation', 'malheurs', 'installa', 'gênait…', 'tenez', 'ploumach', 'sousoffs', 'déshabillait', 'plaquée', 'treize', 'arrêta…', 'maçons', 'employé', 'chantait', 'emmêlement', 'tentures', 'émerveilla', 'almost', 'suçant', 'serrant', 'chants', 'pouvait', 'piqués', 'jamais', 'séduite…', 'francs…', 'cargoboat', 'probablement', 'refusât', 'travail…', 'vouloir', 'mais…', 'cherches', 'tranquille', 'pâtir', 'celle', 'écrasa', 'chiques', 'passé…', 'volait', 'chevet', 'prend', 'stupidité', 'droites', 'appelait…', 'laisserait', 'marmotta', 'gourde', 'recherchait', 'impassible', 'poissons', 'sans', 'augmentait', 'loup', 'parisien', 'jules', 'pensais', 'chantonnant', 'ouvrit', 'rejoindre', 'estil', 'écrasait', 'attristait', 'américain', 'motif', 'souffle', 'coucher', 'porté', 'ébène', 'perdues', 'habitez', 'linge', 'insistance', 'surnom', 'hardis', 'énerve', 'sortir', 'approuva', 'punitive', 'habita', 'janvier', 'courageuse', 'épaules', 'pleurait', 'lassait', 'lumière…', 'dedans', 'attacher', 'tourna', 'prohibition', 'isolement', 'levé', 'tombées', 'most', 'aperçoive', 'recevait', 'lait', 'préparé', 'commis', 'doux', 'stupeur', 'chevelures', 'égaré', 'moyen…', 'forth', 'renaissance', 'ellemême…', 'suivait', 'taquinerie', 'toutes', 'bizarre', 'foutrai', 'employés', 'échappait', 'prends', 'derniers', 'permission', 'states', 'choucroutelà', 'intimité', 'adoraient', 'intelligence', 'halpérinekaminsky', 'tiens', 'venues', 'venu…', 'travailler', 'savez', 'chasser', 'provincial', 'bons', 'reniflait', 'couru', 'regardèrent', 'patrie', 'furie', 'franquette', 'confortable', 'dégouttait', 'suite…', 'jockeys', 'général…', 'chauffeur', 'atmosphère', 'assouvistoi', 'owed', 'hésite', 'fasses', 'unes', 'exclamait', 'endort', 'répéter', 'coin', 'tabourets', 'publications', 'joseph', 'mâchait', 'gratter', 'chanter', 'nippée', 'tourte', 'brumeux', 'accoudée', 'interminable', 'homme', 'ruisseaux', 'parfumerie', 'they', 'coquine', 'croient', 'noire…', 'bocks', 'viewing', 'amies', 'conduite', 'redevenu', 'heureuses', 'large', 'durerait', 'accouda', 'cher', 'vides', 'assoupie', 'polyte', 'sévère', 'façons', 'poussa', 'assurance', 'aller…', 'intéressé', 'goulûment', 'étouffant', 'tache', 'interrompît', 'courent', 'avaitelle', 'pourrais', 'phénol', 'apprit', 'notre', 'retrouva', 'anatole', 'intimes', 'machinereadable', 'combien', 'tendue', 'infinie', 'tapotait', 'chansons', 'maisons', 'soldats', 'fichent', 'aborder', 'carte', 'verse…', 'second', 'tutoyât…', 'employee', 'aigrelet', 'amitié', 'faim', 'pêche', 'quitta', 'aime', 'significatif', 'world', 'pèze', 'brouhaha', 'pinçait', 'désolé', 'village', 'juré', 'épatant', 'vécut', 'rabot', 'indécise', 'laissezmoi', 'vêtue', 'songé', 'strict', 'sortait', 'vécue', 'jeune', 'marchait', 'voitures', 'nuits', 'ruades', 'boulevard…', 'autres…', 'bouts', 'alliance', 'enragée', 'découragés', 'choses…', 'attached', 'graillon', 'partir', 'tachée', 'éveillée', 'geffroy', 'crotte', 'naturellement', 'entrer', 'quartier', 'illustrations', 'internal', 'neige', 'pensaitelle…', 'presser', 'fuyait', 'scholch…', 'inquiétude', 'réussiras', 'tombé', 'tournoyaient', 'coûtés', 'comply', 'placée', 'femmes', 'barman', 'wwwgutenbergorgdonate', 'barbu', 'navraient', 'réfléchi', 'reproches', 'derived', 'rebeller', 'performed', 'cognait', 'attendit', 'lire', 'repos', 'coupa', 'touchantes', 'walks', 'cependant', 'voyou', 'gosserie', 'demandatil', 'ivre', 'clou', 'proprette', 'affreux', 'désespérait', 'casino', 'couverts', 'rapportait', 'endolorie', 'donnemoi', 'paid', 'champsélysées', 'planait', 'fredonnait', 'coude', 'mangeaient', 'digne', 'marié', 'arrivés', 'cagny', 'cris', 'sûre', 'perçait', 'pleurant', 'battant', 'incidental', 'abord', 'amoureuse…', 'foulard', 'entends', 'abandonné', 'croisant', 'cafélà', 'ensommeillé', 'monté', 'michel', 'exempt', 'molles', 'tournait', 'lycée…', 'soignée', 'agréable', 'chausséed', 'subissait', 'celleslà', 'généreux', 'quatrevingtdix', 'agent', 'visage', 'redevenait', 'connaissaient', 'réapparition', 'délivrée', 'tanné', 'nègre', 'répéta', 'devaux', 'comprends', 'éveille', 'réveilla', 'manières', 'vaincue', 'bien', 'catulle', 'boutonnées', 'chanson', 'boîtes', 'plaines', 'belle…', 'soldat', 'couleurs', 'apitoyé', 'garnie', 'plutôt', 'dénouement', 'excité', 'moute', 'calmait', 'lumière', 'pâli', 'beginning', 'nerveux', 'fleur', 'barque', 'innocente', 'brutaux…', 'caressé', 'vivait', 'amène', 'dont', 'expenses', 'mousse', 'senti…', 'mazeppa', 'rattrapa', 'cérémonie', 'tavernes', 'haleter', 'passent', 'follow', 'rentrer', 'damage', 'unprotected', 'revoyait', 'détournait', 'oui…', 'camarades', 'remue…', 'gant', 'fumant', 'pouvais', 'arrivait…', 'habité', 'régulier', 'choisit', 'anyone', 'jouer', 'délicatesse', 'disputèrent', 'gare', 'remettait', 'tripiers', 'truc', 'spectacle…', 'guipardot', 'staff', 'couvertures', 'auquel', 'lourds', 'moulé', 'détourna', 'either', 'longue', 'party', 'poli', 'commode', 'jolie', 'boue', 'éclairait', 'bronze', 'grenoble', 'start', 'femmeslà', 'objet', 'nouvelleorléans', 'milieu', 'ressemblait', 'cercueil', 'whisky', 'enfuie', 'retrouve', 'survenait', 'adorer', 'déteint', 'seules', 'entouré', 'jour', 'remplacée', 'voile', 'victorhugo', 'raconté', 'repoussait', 'commença', 'dire', 'texts', 'quittes', 'licensed', 'following', 'médecin', 'dîner', 'réservés', 'toute', 'vénus', 'bougeait', 'japon', 'guerre', 'extérieure', 'rezdechaussée', 'articula', 'claire', 'things', 'mous', 'remuer', 'ponife', 'réveillerait', 'devinée', 'sanglots', 'indifférente', 'horreur', 'désennuyait', 'chahute', 'fumé', 'terrain', 'ceuxlà', 'chance…', 'venir', 'sagement', 'épouvantable', 'taxes', 'frottait', 'collent', 'tremblaient', 'avancée', 'bouche', 'déserteur', 'café', 'long', 'tous', 'sangloter', 'saleté', 'déjeunant', 'chercher', 'régulière', 'signifie', 'bernhardt', 'désespérée', 'observait', 'diabolique', 'eux…', 'mystère', 'jacquelin', 'coûtait', 'écouta…', 'pressée', 'luimême', 'salir', 'éternellement', 'coupé', 'kikikikikikiki', 'banque', 'sauter', 'dixhuit', 'melon', 'nourrie', 'soignés', 'fixe', 'tête', 'apaisé', 'dévouer', 'ranger', 'silencieusement', 'distribution', 'impressionnable', 'chasseur', 'choses', 'passe', 'jaillirent', 'insensible', 'allaitelle', 'environ', 'mécaniquement', 'déclarations', 'étonnés', 'trinquait', 'escargots', 'modiste', 'travailler…', 'quitter', 'attachée', 'travaillent', 'régiment', 'entendaient', 'fortement', 'petite', 'défilent', 'crachait', 'poussait', 'literary', 'continuer', 'sérieux', 'inquiétant', 'rajeunie', 'sortiront', 'asseoit', 'étant', 'bottines', 'roman', 'montremoi', 'kummel', 'bombes', 'prochain', 'mandat', 'parents', 'boule', 'ouvert', 'appelant', 'rien', 'baluchon', 'quand', 'retourne', 'committed', 'accoutumé', 'lassitude', 'parurent', 'exprès', 'comment', 'serait', 'possible', 'chant', 'drumont', 'serrées', 'vide…', 'protéger…', 'âmes', 'merci', 'douloureuse', 'vraiment…', 'expliquée', 'couché', 'pensé…', 'impatience', 'naïf', 'soleil', 'trouvé', 'compliance', 'pages', 'garni', 'croire', 'étaitelle', 'embêterait', 'included', 'dieu', 'regardez', 'amoindrir', 'vague', 'chez', 'funèbre', 'marchands', 'godasses', 'remaining', 'rien…', 'bruyamment', 'drôle', 'demandèrent', 'parfois', 'ému…', 'déjeuner', 'étonnante', 'plusieurs', 'fondit', 'naturel', 'canada', 'chaque', 'éteindre', 'famille…', 'tarte', 'bouffée', 'troupe', 'terrasse', 'chuchotait', 'sorte', 'fraîche', 'gais', 'solitude', 'violent', 'dispersent', 'suçait', 'triomphes', 'sentir', 'étalées', 'prenant', 'épave', 'droits', 'author', 'touchait', 'frileuses', 'annonce', 'désirer', 'allemand', 'keeping', 'toucherait', 'conséquences', 'marc', 'frites', 'permettait', 'glissent', 'alors…', 'send', 'coiffée', 'allaient', 'plâtre', 'hâte', 'cheminée', 'kiki', 'chopin', 'wish', 'fermés', 'puis', 'geste', 'heureux', 'retournent', 'accourait', 'plantent', 'ruse', 'fuites', 'ausculta', 'humble', 'public', 'haleine', 'drap', 'donne', 'ongles', 'blond', 'premiers', 'aimaient', 'pensestu', 'vide', 'assommé', 'schnick', 'rigolant', 'tracée', 'rude', 'occuper', 'unless', 'déjà', 'raconta', 'exists', 'with', 'improvisait', 'maison', 'congé', 'sébastien', 'toussait', 'pauvres', 'mendès', 'absence', 'fichait', 'fees', 'donner', 'façonlà', 'restaient', 'octobre', 'troisième', 'suffocations', 'chaud', 'camelot…', 'arrêta', 'voulu…', 'rentrée', 'georgette', 'pardonnait', 'caveau', 'vlan', 'belles', 'well', 'soucoupes', 'flânaient', 'ailes', 'connaissais…', 'méchancetés', 'fontaine', 'possessed', 'country', 'ville', 'contrôleur', 'renvoya', 'credit', 'dénoncer', 'unis', 'devenue', 'mieux', 'terre…', 'redingote', 'rejointe', 'longs', 'place', 'accept', 'tuerait…', 'vient', 'produce', 'chair', 'chose', 'comprendre', 'remontèrent', 'marques…', 'gardé', 'prenait', 'donnerais', 'criant', 'curieux', 'remêler', 'acheta', 'kistemaeckers', 'buenosayres', 'cassaient', 'caboulot', 'bientôt', 'ongle', 'notice', 'terrasses', 'parcourait', 'production', 'retroussée', 'examine…', 'hochement', 'peignoirs', 'ami…', 'injustement', 'pattes', 'finie', 'courage', 'trouverez', 'côte', 'anything', 'honteux', 'dépasse', 'banquette', 'particular', 'dessus', 'mais', 'griffonnent', 'ressemblent', 'réfléchissait', 'mômeslà', 'montfort', 'arrêt', 'autrefois', 'inavoué', 'rengagés…', 'herbe', 'éprouvait', 'aprèsmidi', 'critical', 'rappliquaient', 'mémoire', 'extent', 'fuir', 'demandatil…', 'inouïe', 'berge', 'laissât', 'tenu', 'champagne', 'interrogea', 'attendu', 'blagues', 'ridé', 'vierges', 'pardessus', 'computers', 'tranquillement', 'regarda', 'triomphe', 'glissée', 'pots', 'front', 'semblé', 'surlendemain', 'superbe', 'widespread', 'agitait…', 'occupait', 'appelait', 'vogel', 'couler', 'manilles', 'using', 'élevait', 'lève', 'habitudes', 'immediate', 'finissent', 'heure', 'indes', 'concept', 'enfantines', 'effort', 'rires', 'gênait', 'regardant', 'cachecache', 'souffrait', 'constant', 'mares', 'élèves', 'habitude', 'honnêtes', 'hier…', 'bond', 'solicitation', 'attendrissement', 'micheton', 'manchote', 'tristesse…', 'mode', 'jument', 'écouta', 'tristes', 'marguerite…', 'attachait', 'croit', 'frissons', 'furieuse', 'tréport', 'parait', 'embêterais', 'liés', 'choute', 'devriez', 'rhéteur…', 'dormait', 'rideaux', 'croisés', 'feuilles', 'lévite', 'fesses', 'pieds', 'amuser', 'dernières', 'quelque', 'écœurée', 'fichue', 'descendue', 'devait', 'quelquefois', 'débordant', 'figurant', 'compliquée', 'caressa', 'contradiction', 'cours', 'mouvement', 'amèrement', 'fanée', 'distance', 'arrêtait', 'ciré', 'caché', 'louÿs', 'grave', 'argentine', 'crispée', 'rivière', 'vent', 'veut', 'revivre', 'vêtus', 'voix', 'pleurer', 'quitté', 'salaud…', 'reverrait', 'accepte', 'bal…', 'regardemoi', 'opéra', 'remarquer', 'glaça', 'féminine…', 'railler', 'concorde', 'tromperais', 'deuxlà', 'réflexion', 'marin', 'durera', 'sentence', 'rampe', 'bras…', 'donné', 'person', 'apparition', 'traversait', 'inondait', 'lepic', 'puisqu', 'demanda', 'allait', 'reprendre', 'crachaient', 'quelle', 'tuée', 'client', 'longues', 'soupçonnassent', 'presse', 'servir', 'attendant', 'nourriture', 'posé', 'relevé', 'tout', 'gentils…', 'number', 'imprévu', 'arrivant', 'cieux', 'caleçons', 'râtelier', 'france', 'trouverais', 'baisa', 'remain', 'sortis', 'genre', 'ennui', 'difficile…', 'orient…', 'jouissait', 'écartait', 'respirait', 'maigri', 'bêtises', 'alignement', 'réussi…', 'disparu', 'flamme', 'retirer', 'oreille', 'promené', 'apporter', 'applicable', 'éclair', 'déguisait', 'joyeuse', 'rouges', 'entrés', 'mariages', 'roupilla', 'reprocher', 'tourner', 'raconterait', 'butte', 'soulagement…', 'poignet', 'dépolies', 'connaître', 'instinct', 'collées', 'fort…', 'coureur…', 'allez', 'marges', 'viewed', 'forci…', 'hommeslà', 'prestige', 'boutiquière', 'quel', 'dansait', 'mince', 'logée', 'lui…', 'sortie', 'blanches', 'seule…', 'déjeunèrent', 'voie', 'catastrophe', 'regretté', 'voudrait', 'cause', 'voulût', 'mine', 'barbant', 'veille', 'blanc', 'traînait', 'quart', 'réagir', 'some', 'femmelà', 'silencieuse', 'these', 'feraitelle', 'anywhere', 'dédaigné', 'carmen', 'découverte', 'brûlant', 'share', 'distributing', 'besoin', 'filles…', 'bâillant', 'asseoir', 'rattraper', 'frappèrent', 'revenaient', 'fière', 'porter', 'descendit', 'jupes', 'dîné', 'boulotte', 'fleuve', 'mulhouse', 'jouait', 'mépris', 'chaussés', 'moignons', 'adresses', 'frissonnante', 'étude', 'père', 'images', 'février', 'étaitil', 'vivement', 'emporter', 'coucha', 'gestes', 'perçu', 'pleura', 'grain', 'tient', 'lignes', 'paris…', 'bienveillance', 'agentlà', 'discuter', 'ramena', 'amitié…', 'novembre', 'repassaient', 'yeux…', 'suivant', 'éclats', 'apportait', 'porte', 'sommeil', 'sangs', 'persiennes', 'permetsmoi', 'lorsqu', 'types', 'mollard', 'langage', 'tendait', 'bougez', 'atil', 'méfie', 'sabot', 'pinson', 'simples', 'carapate', 'maximum', 'habit', 'suit', 'chute', 'frêle', 'épate', 'paisibles', 'familières', 'boit', 'lagardère', 'except', 'quai', 'voyage', 'gardant', 'ellemême', 'heureci', 'afin', 'essuyait', 'louer', 'ennuie', 'avançait', 'toits', 'camelots', 'affection…', 'tranquillement…', 'caressant', 'dites', 'poings…', 'détails', 'isère', 'aider', 'bague', 'voulais', 'could', 'distinguées', 'offre', 'compliqué', 'eau…', 'does', 'caressait', 'bouillon', 'roulé', 'remove', 'étonnée', 'particulier', 'nonproprietary', 'accessible', 'approach', 'ensuite', 'grands', 'pièces', 'contenir', 'aide…', 'mégots', 'conduire', 'respirez', 'ajoutait', 'voulez', 'sauvée', 'demand', 'dépenser', 'musquée', 'taisait', 'regret', 'pampelin…', 'demandant', 'clearly', 'aucun', 'inaccurate', 'reconnus', 'peutêtre', 'race…', 'conseilla', 'prie', 'chèvrefeuille', 'resta', 'rapports', 'corsage', 'abîme', 'pensionnaire', 'tombée', 'soit', 'warranty', 'garda', 'embrassiez', 'gnangnan', 'écroulée', 'essence', 'fauteuil', 'mort…', 'oublies', 'monde', 'envahit', 'leur', 'those', 'paix', 'north', 'changée', 'bouchon', 'soupirs', 'percées', 'cado', 'passant', 'cochons', 'suis…', 'état', 'aigus', 'emprisonnaient', 'expérience', 'acheter', 'mourait', 'facilement', 'enfuyait', 'cigares', 'aimables', 'rencontrerai', 'elle…', 'rendent', 'navigué', 'énorme', 'proches', 'traduction', 'septembre', 'simple', 'maternellement', 'michet', 'habitait', 'révolte', 'tables', 'lamentable', 'intelligente', 'duquesnel', 'rend', 'rester', 'dite', 'sophie…', 'pardon', 'ballon…', 'tendant', 'canne', 'tend', 'rance', 'colère', 'escalope…', 'épouvantables…', 'guérie…', 'indifférence', 'possibility', 'absorbée', 'odeur', 'cocu', 'humeur', 'turbin', 'face', 'conversations', 'thérèse', 'jourlà', 'chante', 'admirer', 'tristesse', 'entre', 'rare', 'étonnants', 'estimée', 'colla', 'auxquels', 'laissé', 'réguliers', 'both', 'endroit', 'dégringole', 'puéril', 'formats', 'commencement', 'font', 'plainte', 'ouverte', 'battu', 'traversant', 'modestie', 'infâme…', 'extase', 'compact…', 'march', 'ridée', 'vifs', 'arrêter', 'rentre', 'vivante', 'éclairé', 'balles…', 'posa', 'nuage', 'aspirait', 'brillants', 'touchez', 'crut', 'hauts', 'radieux', 'pouvaient', 'mômes', 'teint', 'mélange', 'gigolo', 'iras', 'passive', 'mettrait', 'vingt', 'fatigant', 'chemin…', 'recardé', 'rallié', 'parti', 'soixantequinze…', 'rapidement', 'flatte', 'semaine', 'name', 'gorge', 'elect', 'traits', 'hennissaient…', 'illustré', 'retrouver', 'chaussée', 'mômiche', 'journée…', 'fond…', 'efforçait', 'mousseline', 'corday', 'edition', 'émouvait', 'causé', 'make', 'sonneraient', 'planta', 'chinois', 'marquis', 'emportée', 'trempée', 'depends', 'bruits', 'computer', 'copied', 'chauffée', 'genoux', 'claquer', 'épuisé', 'détresse', 'courir', 'drôles', 'choisie', 'ebooks', 'meublé', 'corps', 'retour', 'enchantait', 'mordre', 'édouard', 'newsletter', 'tictac', 'marengo', 'valu', 'rencontra', 'économiser', 'gravement', 'hésita', 'inconsciemment', 'cuivre', 'matée', 'figures', 'écrièrent', 'consternée', 'gagna', 'approchaitil', 'gentils', 'restaurant', 'faible', 'mouchoir', 'embrassait', 'motteroz', 'lascivement', 'robuste', 'lettre', 'mignons', 'anxieuse…', 'voiles', 'fureur', 'navré', 'absolument', 'rembarres', 'toucha', 'enlever', 'montée', 'hâtives', 'regarde', 'joue…', 'romance…', 'mécanique', 'broderie', 'nègres', 'marches', 'signification', 'développer', 'amours', 'respirant', 'vôtre', 'lent', 'bonheur', 'titjy', 'entend', 'serviette', 'risque', 'répond', 'date', 'emmena', 'trouver', 'déchue', 'neuf', 'audessus', 'avec', 'verts', 'suppliciés', 'voûte', 'gens', 'énervait', 'tonitruante', 'murmurait', 'habileté', 'accoster', 'examiner', 'redeviendrait', 'airs', 'soirées', 'éclatait', 'racontant', 'abouler', 'poussières', 'parie', 'remontait', 'assommerai', 'kirsch', 'accoucher…', 'repartit', 'tousser', 'martinet', 'régulier…', 'chocs', 'chaude', 'people', 'clairs', 'bistro', 'bousculer', 'indemnify', 'réconforté', 'longtemps', 'fort', 'pantalon', 'fragile', 'somme', 'promenade', 'distinguée', 'lutte', 'attendrai', 'couvercle', 'removed', 'official', 'fatalité', 'ordinaire', 'peuplées', 'relevait', 'mère', 'lèvre', 'voir', 'vont', 'means', 'saurai', 'séries', 'brume', 'arroser', 'achetât', 'puisque', 'reconduisit', 'dessinant', 'debout', 'many', 'bouquet', 'mets', 'grimace', 'riviera', 'tuileries', 'errors', 'répétées', 'fleurait', 'transcription', 'troismâts', 'posted', 'période', 'endormie', 'enivrée', 'mademoiselle', 'lâchement', 'soie…', 'tutoyait…', 'entendit', 'costumes', 'américains', 'analyser', 'gagnée', 'détestait', 'bombé', 'multicolores', 'élance', 'colonial', 'deuxième', 'considérait', 'through', 'sciure', 'poudres', 'mariés…', 'crêpes', 'bombe', 'rosse', 'interrogeait', 'lançant', 'logeuse', 'seule', 'sourd', 'établissait', 'addresses', 'prononçait', 'moustache', 'lâcher', 'expend', 'cuvette', 'pourraient', 'soirs', 'fadasse', 'dure', 'amabilité', 'displayed', 'trompé', 'quotidienneté', 'chemisettes', 'unenforceability', 'république', 'trimer', 'plus…', 'prepare', 'rigolo', 'despite', 'raison']\n"
          ]
        }
      ]
    },
    {
      "cell_type": "code",
      "source": [
        "print(len(lista_sem_numeros))"
      ],
      "metadata": {
        "colab": {
          "base_uri": "https://localhost:8080/"
        },
        "id": "r9SkJQI6n3Sb",
        "outputId": "24d8fc61-6505-473c-9391-e248457a0b28"
      },
      "execution_count": 8,
      "outputs": [
        {
          "output_type": "stream",
          "name": "stdout",
          "text": [
            "6012\n"
          ]
        }
      ]
    },
    {
      "cell_type": "code",
      "source": [
        "import time\n",
        "\n",
        "start_time = time.time()\n",
        "\n",
        "class Node:\n",
        "\n",
        "\n",
        "    def __init__(self, value):\n",
        "\n",
        "        self.value = value\n",
        "        self.left_child = None\n",
        "        self.right_child = None\n",
        "\n",
        "\n",
        "class BST:\n",
        "\n",
        "\n",
        "    def __init__(self):\n",
        "\n",
        "        self.root = None\n",
        "\n",
        "    def add(self, value):\n",
        "\n",
        "        if self.root is None:\n",
        "            self.root = Node(value)\n",
        "        else:\n",
        "            self._add_recursive(self.root, value)\n",
        "\n",
        "    def _add_recursive(self, current_node, value):\n",
        "\n",
        "        if value[0] <= current_node.value[0]:\n",
        "            if current_node.left_child is None:\n",
        "                current_node.left_child = Node(value)\n",
        "            else:\n",
        "                self._add_recursive(current_node.left_child, value)\n",
        "        else:\n",
        "            if current_node.right_child is None:\n",
        "                current_node.right_child = Node(value)\n",
        "            else:\n",
        "                self._add_recursive(current_node.right_child, value)\n",
        "\n",
        "def build_bst(word_list):\n",
        "    bst = BST()\n",
        "    for word in word_list:\n",
        "        bst.add(word)\n",
        "    return bst\n",
        "\n",
        "bst = build_bst(lista_sem_numeros)\n",
        "\n",
        "def get_tree_height(node):\n",
        "    if node is None:\n",
        "        return 0\n",
        "    else:\n",
        "        left_height = get_tree_height(node.left_child)\n",
        "        right_height = get_tree_height(node.right_child)\n",
        "        return max(left_height, right_height) + 1\n",
        "\n",
        "# Exemplo de uso:\n",
        "height = get_tree_height(bst.root)\n",
        "print(\"Altura da árvore:\", height)\n",
        "end_time = time.time()\n",
        "execution_time = end_time - start_time\n",
        "print(\"Tempo de execução: \", execution_time, \" segundos\")\n"
      ],
      "metadata": {
        "id": "FtJ4p8O599l_",
        "colab": {
          "base_uri": "https://localhost:8080/"
        },
        "outputId": "375a7072-3a88-4e41-8930-1269c580e60c"
      },
      "execution_count": 9,
      "outputs": [
        {
          "output_type": "stream",
          "name": "stdout",
          "text": [
            "Altura da árvore: 638\n",
            "Tempo de execução:  0.4488253593444824  segundos\n"
          ]
        }
      ]
    },
    {
      "cell_type": "code",
      "source": [
        "import time\n",
        "import gradio as gr\n",
        "\n",
        "result = []\n",
        "\n",
        "\n",
        "def search_words(node, prefix, result):\n",
        "    if node is None:\n",
        "        return\n",
        "    # Se o prefixo é uma substring da palavra atual\n",
        "    if node.value.startswith(prefix):\n",
        "        result.append(node.value)\n",
        "\n",
        "    # Se o prefixo é menor que a palavra atual, busca na subárvore esquerda\n",
        "    if prefix[0] <= node.value[0]:\n",
        "        search_words(node.left_child, prefix, result)\n",
        "\n",
        "\n",
        "    if prefix > node.value:\n",
        "        search_words(node.right_child, prefix, result)\n",
        "\n",
        "def greet(name):\n",
        "    start_time = time.time()\n",
        "    search_words(bst.root, name, result)\n",
        "    end_time = time.time()\n",
        "    execution_time = end_time - start_time\n",
        "    print(\"Tempo de execução: \", execution_time, \" segundos\")\n",
        "\n",
        "    return result, execution_time\n",
        "\n",
        "demo = gr.Interface(\n",
        "    fn=greet,\n",
        "    inputs=[\"text\"],\n",
        "    outputs=[gr.Textbox(label=\"Palavras encontradas\"), gr.Number(label=\"Tempo de Execução\")],\n",
        "\n",
        ")\n",
        "\n",
        "demo.launch()"
      ],
      "metadata": {
        "colab": {
          "base_uri": "https://localhost:8080/",
          "height": 630
        },
        "id": "8PhmMRntMibc",
        "outputId": "d5a7ba53-f5b5-451f-d2b1-75abada38853"
      },
      "execution_count": 10,
      "outputs": [
        {
          "output_type": "stream",
          "name": "stdout",
          "text": [
            "Setting queue=True in a Colab notebook requires sharing enabled. Setting `share=True` (you can turn this off by setting `share=False` in `launch()` explicitly).\n",
            "\n",
            "Colab notebook detected. To show errors in colab notebook, set debug=True in launch()\n",
            "Running on public URL: https://efbde6e418bbf2acb8.gradio.live\n",
            "\n",
            "This share link expires in 72 hours. For free permanent hosting and GPU upgrades, run `gradio deploy` from Terminal to deploy to Spaces (https://huggingface.co/spaces)\n"
          ]
        },
        {
          "output_type": "display_data",
          "data": {
            "text/plain": [
              "<IPython.core.display.HTML object>"
            ],
            "text/html": [
              "<div><iframe src=\"https://efbde6e418bbf2acb8.gradio.live\" width=\"100%\" height=\"500\" allow=\"autoplay; camera; microphone; clipboard-read; clipboard-write;\" frameborder=\"0\" allowfullscreen></iframe></div>"
            ]
          },
          "metadata": {}
        },
        {
          "output_type": "execute_result",
          "data": {
            "text/plain": []
          },
          "metadata": {},
          "execution_count": 10
        }
      ]
    },
    {
      "cell_type": "code",
      "source": [
        "import time\n",
        "\n",
        "start_time2 = time.time()\n",
        "class Node:\n",
        "    def __init__(self, value):\n",
        "        self.value = value\n",
        "        self.left_child = None\n",
        "        self.right_child = None\n",
        "        self.height = 1\n",
        "\n",
        "class AVLTree:\n",
        "    def __init__(self):\n",
        "        self.root = None\n",
        "\n",
        "    def add(self, value):\n",
        "        if self.root is None:\n",
        "            self.root = Node(value)\n",
        "        else:\n",
        "            self.root = self._add_recursive(self.root, value)\n",
        "\n",
        "    def _add_recursive(self, node, value):\n",
        "        if node is None:\n",
        "            return Node(value)\n",
        "\n",
        "        if value[0] <= node.value[0]:\n",
        "            node.left_child = self._add_recursive(node.left_child, value)\n",
        "        else:\n",
        "            node.right_child = self._add_recursive(node.right_child, value)\n",
        "\n",
        "        # Atualiza a altura do nó atual\n",
        "        node.height = 1 + max(self._get_height(node.left_child), self._get_height(node.right_child))\n",
        "\n",
        "        # Calcula o fator de equilíbrio do nó atual\n",
        "        balance_factor = self._get_balance_factor(node)\n",
        "\n",
        "        # Verifica se é necessário realizar rotações para balancear a árvore\n",
        "        if balance_factor > 1:\n",
        "            if value[0] <= node.left_child.value[0]:\n",
        "                return self._rotate_right(node)\n",
        "            else:\n",
        "                node.left_child = self._rotate_left(node.left_child)\n",
        "                return self._rotate_right(node)\n",
        "        elif balance_factor < -1:\n",
        "            if value[0] > node.right_child.value[0]:\n",
        "                return self._rotate_left(node)\n",
        "            else:\n",
        "                node.right_child = self._rotate_right(node.right_child)\n",
        "                return self._rotate_left(node)\n",
        "\n",
        "        return node\n",
        "\n",
        "    def _rotate_right(self, z):\n",
        "        y = z.left_child\n",
        "        T3 = y.right_child\n",
        "\n",
        "        y.right_child = z\n",
        "        z.left_child = T3\n",
        "\n",
        "        z.height = 1 + max(self._get_height(z.left_child), self._get_height(z.right_child))\n",
        "        y.height = 1 + max(self._get_height(y.left_child), self._get_height(y.right_child))\n",
        "\n",
        "        return y\n",
        "\n",
        "    def _rotate_left(self, z):\n",
        "        y = z.right_child\n",
        "        T2 = y.left_child\n",
        "\n",
        "        y.left_child = z\n",
        "        z.right_child = T2\n",
        "\n",
        "        z.height = 1 + max(self._get_height(z.left_child), self._get_height(z.right_child))\n",
        "        y.height = 1 + max(self._get_height(y.left_child), self._get_height(y.right_child))\n",
        "\n",
        "        return y\n",
        "\n",
        "    def _get_height(self, node):\n",
        "        if node is None:\n",
        "            return 0\n",
        "        return node.height\n",
        "\n",
        "    def _get_balance_factor(self, node):\n",
        "        if node is None:\n",
        "            return 0\n",
        "        return self._get_height(node.left_child) - self._get_height(node.right_child)\n",
        "\n",
        "def build_avl_tree(word_list):\n",
        "    avl_tree = AVLTree()\n",
        "    for word in word_list:\n",
        "        avl_tree.add(word)\n",
        "    return avl_tree\n",
        "\n",
        "def get_tree_height(node):\n",
        "    if node is None:\n",
        "        return 0\n",
        "    else:\n",
        "        left_height = get_tree_height(node.left_child)\n",
        "        right_height = get_tree_height(node.right_child)\n",
        "        return max(left_height, right_height) + 1\n",
        "\n",
        "# Exemplo de uso:\n",
        "avl_tree = build_avl_tree(lista_sem_numeros)\n",
        "height = get_tree_height(avl_tree.root)\n",
        "print(\"Altura da árvore balanceada:\", height)\n",
        "end_time2 = time.time()\n",
        "execution_time2 = end_time2 - start_time2\n",
        "print(\"Tempo de execução: \", execution_time2, \" segundos\")\n"
      ],
      "metadata": {
        "colab": {
          "base_uri": "https://localhost:8080/"
        },
        "id": "l8yaLnlRJPDx",
        "outputId": "ed5f13c2-e8b7-4fa1-f5f3-ef12e6473b2a"
      },
      "execution_count": 11,
      "outputs": [
        {
          "output_type": "stream",
          "name": "stdout",
          "text": [
            "Altura da árvore balanceada: 14\n",
            "Tempo de execução:  0.13672542572021484  segundos\n"
          ]
        }
      ]
    },
    {
      "cell_type": "code",
      "source": [
        "\n",
        "import time\n",
        "import gradio as gr\n",
        "\n",
        "result = []\n",
        "\n",
        "\n",
        "def search_words(node, prefix, result):\n",
        "    if node is None:\n",
        "        return\n",
        "    # Se o prefixo é uma substring da palavra atual\n",
        "    if node.value.startswith(prefix):\n",
        "        result.append(node.value)\n",
        "\n",
        "    # Se o prefixo é menor que a palavra atual, busca na subárvore esquerda\n",
        "    if prefix[0] <= node.value[0]:\n",
        "        search_words(node.left_child, prefix, result)\n",
        "\n",
        "\n",
        "    if prefix > node.value:\n",
        "        search_words(node.right_child, prefix, result)\n",
        "\n",
        "def greet(name):\n",
        "    start_time = time.time()\n",
        "    search_words(bst.root, name, result)\n",
        "    end_time = time.time()\n",
        "    execution_time = end_time - start_time\n",
        "    print(\"Tempo de execução: \", execution_time, \" segundos\")\n",
        "\n",
        "    return result, execution_time\n",
        "\n",
        "demo = gr.Interface(\n",
        "    fn=greet,\n",
        "    inputs=[\"text\"],\n",
        "    outputs=[gr.Textbox(label=\"Palavras encontradas\"), gr.Number(label=\"Tempo de Execução\")],\n",
        "\n",
        ")\n",
        "\n",
        "demo.launch()"
      ],
      "metadata": {
        "colab": {
          "base_uri": "https://localhost:8080/",
          "height": 630
        },
        "id": "pSInOdKot9tm",
        "outputId": "63f7cd7a-974d-45ba-88e8-2172f378027b"
      },
      "execution_count": 12,
      "outputs": [
        {
          "output_type": "stream",
          "name": "stdout",
          "text": [
            "Setting queue=True in a Colab notebook requires sharing enabled. Setting `share=True` (you can turn this off by setting `share=False` in `launch()` explicitly).\n",
            "\n",
            "Colab notebook detected. To show errors in colab notebook, set debug=True in launch()\n",
            "Running on public URL: https://22ef2b2da5248547e7.gradio.live\n",
            "\n",
            "This share link expires in 72 hours. For free permanent hosting and GPU upgrades, run `gradio deploy` from Terminal to deploy to Spaces (https://huggingface.co/spaces)\n"
          ]
        },
        {
          "output_type": "display_data",
          "data": {
            "text/plain": [
              "<IPython.core.display.HTML object>"
            ],
            "text/html": [
              "<div><iframe src=\"https://22ef2b2da5248547e7.gradio.live\" width=\"100%\" height=\"500\" allow=\"autoplay; camera; microphone; clipboard-read; clipboard-write;\" frameborder=\"0\" allowfullscreen></iframe></div>"
            ]
          },
          "metadata": {}
        },
        {
          "output_type": "execute_result",
          "data": {
            "text/plain": []
          },
          "metadata": {},
          "execution_count": 12
        }
      ]
    }
  ]
}